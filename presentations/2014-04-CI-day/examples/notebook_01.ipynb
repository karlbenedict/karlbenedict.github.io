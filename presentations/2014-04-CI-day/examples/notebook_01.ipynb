{
 "metadata": {
  "name": "Network Data Access - SNOTEL File-based Access"
 },
 "nbformat": 3,
 "nbformat_minor": 0,
 "worksheets": [
  {
   "cells": [
    {
     "cell_type": "markdown",
     "metadata": {
      "slideshow": {
       "slide_type": "-"
      }
     },
     "source": "# Network Data Access - SNOTEL File-based Access\n\nKarl Benedict  \nDirector, Earth Data Analysis Center  \nAssociate Professor, University Libraries  \nUniversity of New Mexico  \n*kbene@unm.edu*"
    },
    {
     "cell_type": "markdown",
     "metadata": {},
     "source": "## An Analysis\n\nThis analysis demonstrates searching for datasets that meet a set of specified conditions, downloading, processing and plotting the data from the files. "
    },
    {
     "cell_type": "markdown",
     "metadata": {},
     "source": "Enable the needed python libraries"
    },
    {
     "cell_type": "code",
     "collapsed": true,
     "input": "import urllib\nimport zipfile\nimport StringIO\nimport string\nimport pandas\nimport matplotlib.pyplot as plt\nimport numpy as np\nfrom IPython.display import HTML\nimport json",
     "language": "python",
     "metadata": {},
     "outputs": [],
     "prompt_number": 74
    },
    {
     "cell_type": "markdown",
     "metadata": {},
     "source": "Set some initial variables"
    },
    {
     "cell_type": "code",
     "collapsed": false,
     "input": "county_name = \"\"\nstart_date = \"20140101\"\nend_date = \"20150101\"\ndiag = False",
     "language": "python",
     "metadata": {},
     "outputs": [],
     "prompt_number": 75
    },
    {
     "cell_type": "markdown",
     "metadata": {},
     "source": "### Options"
    },
    {
     "cell_type": "code",
     "collapsed": false,
     "input": "input_form = \"\"\"\n<div style=\"background-color:gainsboro; border:solid black; width:300px; padding:20px;\">\n<p>What are your search preferences for the SNOTEL data you want to use?</p>\nNew Mexico County Name: <input type=\"text\" id=\"county_name\" value=\"%s\"><br>\nStart Date: <input type=\"text\" id=\"start_date\" value=\"%s\"><br>\nEnd Date: <input type=\"text\" id=\"end_date\" value=\"%s\"><br>\n<button onclick=\"set_value()\">Set Value</button>\n</div>\n\"\"\" % (county_name, start_date, end_date)\n\njavascript = \"\"\"\n<script type=\"text/Javascript\">\n    function set_value(){\n        var kernel = IPython.notebook.kernel;\n        var county_name_value = document.getElementById('county_name').value;\n        var start_date_value = document.getElementById('start_date').value;\n        var end_date_value = document.getElementById('end_date').value;\n        var command = \"county_name\" + \" = '\" + county_name_value + \"'\";\n        console.log(\"Executing Command: \" + command);\n        kernel.execute(command);\n        var command = \"start_date\" + \" = '\" + start_date_value + \"'\";\n        console.log(\"Executing Command: \" + command);\n        kernel.execute(command);\n        var command = \"end_date\" + \" = '\" + end_date_value + \"'\";\n        console.log(\"Executing Command: \" + command);\n        kernel.execute(command);\n        \n    }\n</script>\n\"\"\"\n\nHTML(input_form + javascript)",
     "language": "python",
     "metadata": {},
     "outputs": [
      {
       "html": "\n<div style=\"background-color:gainsboro; border:solid black; width:300px; padding:20px;\">\n<p>What are your search preferences for the SNOTEL data you want to use?</p>\nNew Mexico County Name: <input type=\"text\" id=\"county_name\" value=\"\"><br>\nStart Date: <input type=\"text\" id=\"start_date\" value=\"20140101\"><br>\nEnd Date: <input type=\"text\" id=\"end_date\" value=\"20150101\"><br>\n<button onclick=\"set_value()\">Set Value</button>\n</div>\n\n<script type=\"text/Javascript\">\n    function set_value(){\n        var kernel = IPython.notebook.kernel;\n        var county_name_value = document.getElementById('county_name').value;\n        var start_date_value = document.getElementById('start_date').value;\n        var end_date_value = document.getElementById('end_date').value;\n        var command = \"county_name\" + \" = '\" + county_name_value + \"'\";\n        console.log(\"Executing Command: \" + command);\n        kernel.execute(command);\n        var command = \"start_date\" + \" = '\" + start_date_value + \"'\";\n        console.log(\"Executing Command: \" + command);\n        kernel.execute(command);\n        var command = \"end_date\" + \" = '\" + end_date_value + \"'\";\n        console.log(\"Executing Command: \" + command);\n        kernel.execute(command);\n        \n    }\n</script>\n",
       "output_type": "pyout",
       "prompt_number": 76,
       "text": "<IPython.core.display.HTML at 0x4c65290>"
      }
     ],
     "prompt_number": 76
    },
    {
     "cell_type": "code",
     "collapsed": false,
     "input": "## Retrieve the bounding box of the specified county - if no county is specified, the bounding boxes for all NM counties will be requested\ncountyBBOXlink = \"http://gstore.unm.edu/apps/epscor/search/nm_counties.json?limit=100&query=\" + county_name  ## define the request URL\nprint countyBBOXlink ## print the request URL for verification\nprint\nbboxFile = urllib.urlopen(countyBBOXlink) ## request the bounding box information from the server\nbboxData = json.load(bboxFile)\n# print bboxData\n\nmyCounties = []\nfor countyBBOX in bboxData[\"results\"]:\n    myDownloadLinks = []\n    minx,miny,maxx,maxy = countyBBOX[u'box']\n    mySearchRequest = \"http://gstore.unm.edu/apps/epscor/search/datasets.json?version=3&limit=50&offset=0&theme=Climate&subtheme=SNOTEL&start_time=%s&end_time=%s&box=%s,%s,%s,%s\" % (start_date,end_date,minx,miny,maxx,maxy)\n    try:\n        searchResults = urllib.urlopen(mySearchRequest)\n        searchData = json.load(searchResults)\n        for downloadInfo in searchData[\"results\"]:\n            myDownloadLink = downloadInfo[\"downloads\"][0][\"csv\"]\n            myDownloadLinks.append(myDownloadLink)\n            print myDownloadLink\n    except:\n        print \"Couldn't retrieve and process the search results\"\n    myCounty = {u'name':countyBBOX[u'text'],u'minx':minx,u'miny':miny,u'maxx':maxx,u'maxy':maxy,u'searchURL':mySearchRequest,u'downloadLinks':myDownloadLinks}\n    myCounties.append(myCounty)\n",
     "language": "python",
     "metadata": {},
     "outputs": [
      {
       "output_type": "stream",
       "stream": "stdout",
       "text": "http://gstore.unm.edu/apps/epscor/search/nm_counties.json?limit=100&query=\n\nhttp://gstore.unm.edu/apps/epscor/datasets/9c6a17ec-5481-4f48-812f-cf291d67cb7c/snotel_201401_486.derived.csv"
      },
      {
       "output_type": "stream",
       "stream": "stdout",
       "text": "\nhttp://gstore.unm.edu/apps/epscor/datasets/47cc4c18-bbe6-4f83-a81a-b06f4a0bd577/snotel_201312_595.derived.csv\nhttp://gstore.unm.edu/apps/epscor/datasets/9a1fd801-4c3f-4c42-a452-7dfe67123c45/snotel_201401_595.derived.csv\nhttp://gstore.unm.edu/apps/epscor/datasets/a3fea402-5bdd-45b7-931b-6891f20a4f09/snotel_201312_486.derived.csv\nhttp://gstore.unm.edu/apps/epscor/datasets/f47a6b63-a7dc-4d6e-a0b9-829f57c384e5/snotel_201312_757.derived.csv\nhttp://gstore.unm.edu/apps/epscor/datasets/68f83776-3548-4a51-81ed-ed8c1de79d61/snotel_201402_595.derived.csv\nhttp://gstore.unm.edu/apps/epscor/datasets/adfef876-464c-4ef1-b152-9c16cee3f6a7/snotel_201403_595.derived.csv\nhttp://gstore.unm.edu/apps/epscor/datasets/7d905832-d6c3-4772-b196-4a13d84e04ec/snotel_201403_757.derived.csv\nhttp://gstore.unm.edu/apps/epscor/datasets/9446ab07-dffa-408b-afbe-27c316cbc299/snotel_201401_757.derived.csv\nhttp://gstore.unm.edu/apps/epscor/datasets/64718921-f903-4a54-9bb4-c18d16f1f152/snotel_201402_486.derived.csv\nhttp://gstore.unm.edu/apps/epscor/datasets/9d5f0b29-3921-4825-89ca-2fb04c72445d/snotel_201402_757.derived.csv\nhttp://gstore.unm.edu/apps/epscor/datasets/5335b4f6-cede-46a2-914d-e830ecd39bd9/snotel_201403_486.derived.csv\nhttp://gstore.unm.edu/apps/epscor/datasets/68165a3f-67c7-4937-89a7-48a567786751/snotel_201312_933.derived.csv"
      },
      {
       "output_type": "stream",
       "stream": "stdout",
       "text": "\nhttp://gstore.unm.edu/apps/epscor/datasets/bc2d9dad-ecf7-4e59-805e-2a7e49abd611/snotel_201402_933.derived.csv\nhttp://gstore.unm.edu/apps/epscor/datasets/3794e9ab-e007-4556-9550-77ff870f4d24/snotel_201401_933.derived.csv\nhttp://gstore.unm.edu/apps/epscor/datasets/c07c1181-8e42-4b73-bd70-442ecccb794e/snotel_201403_933.derived.csv\nhttp://gstore.unm.edu/apps/epscor/datasets/8a661be3-299d-47ad-bb4e-031984b2a30e/snotel_201312_715.derived.csv"
      },
      {
       "output_type": "stream",
       "stream": "stdout",
       "text": "\nhttp://gstore.unm.edu/apps/epscor/datasets/fde027c5-1ca4-433d-a5f7-1a1fda88bd46/snotel_201402_934.derived.csv\nhttp://gstore.unm.edu/apps/epscor/datasets/ffbc053f-ab9a-4ebe-95ea-83832cf6a86b/snotel_201402_715.derived.csv\nhttp://gstore.unm.edu/apps/epscor/datasets/59c413bb-47b8-440d-bba4-beffef178ead/snotel_201312_1169.derived.csv\nhttp://gstore.unm.edu/apps/epscor/datasets/5579056f-406c-4ff1-a3c3-3513da0a7e90/snotel_201312_1170.derived.csv\nhttp://gstore.unm.edu/apps/epscor/datasets/42d258a0-dca5-4c2f-8e9a-53eca830eda2/snotel_201401_1170.derived.csv\nhttp://gstore.unm.edu/apps/epscor/datasets/1f0b6548-a1d0-4b71-bb1b-1be2fa063937/snotel_201401_1169.derived.csv\nhttp://gstore.unm.edu/apps/epscor/datasets/9fc6900c-5260-4640-bd68-1823c440e14d/snotel_201401_715.derived.csv\nhttp://gstore.unm.edu/apps/epscor/datasets/04a8d4e7-45a6-4956-adda-7fb238b11834/snotel_201403_1169.derived.csv\nhttp://gstore.unm.edu/apps/epscor/datasets/5819134d-4c95-4a55-8a62-21ea91f5e7cb/snotel_201403_715.derived.csv\nhttp://gstore.unm.edu/apps/epscor/datasets/56f771ca-c3ab-4b8e-9b57-d634a48f9532/snotel_201312_934.derived.csv\nhttp://gstore.unm.edu/apps/epscor/datasets/21c8c85b-e831-45e9-a070-0e39e6136aa1/snotel_201402_1170.derived.csv\nhttp://gstore.unm.edu/apps/epscor/datasets/6ce72a32-c167-4eda-8da3-303297fbec26/snotel_201402_1169.derived.csv\nhttp://gstore.unm.edu/apps/epscor/datasets/20d278b5-82cc-4a01-90c0-872aa013859b/snotel_201403_1170.derived.csv\nhttp://gstore.unm.edu/apps/epscor/datasets/3c50428c-7f8e-4b84-9a9d-96f462dc9624/snotel_201403_934.derived.csv\nhttp://gstore.unm.edu/apps/epscor/datasets/9bd40f89-4043-49b6-a84d-d8b90449a0b3/snotel_201401_934.derived.csv\nhttp://gstore.unm.edu/apps/epscor/datasets/7980fed6-cf40-42c1-9bda-889ca42f8311/snotel_201402_755.derived.csv"
      },
      {
       "output_type": "stream",
       "stream": "stdout",
       "text": "\nhttp://gstore.unm.edu/apps/epscor/datasets/0340e747-ef7c-41e5-83b2-efc9f30a32a1/snotel_201403_1048.derived.csv\nhttp://gstore.unm.edu/apps/epscor/datasets/d77e5b61-41fc-4774-b786-f3422116e34b/snotel_201401_1048.derived.csv\nhttp://gstore.unm.edu/apps/epscor/datasets/ed561c5c-1f28-4ed0-bff5-150bc49e4d6b/snotel_201312_755.derived.csv\nhttp://gstore.unm.edu/apps/epscor/datasets/e08d9721-69cc-4720-9ebd-0575b6345f8c/snotel_201401_755.derived.csv\nhttp://gstore.unm.edu/apps/epscor/datasets/c5b0420f-290a-4f2f-8129-aa05e812e66c/snotel_201403_755.derived.csv\nhttp://gstore.unm.edu/apps/epscor/datasets/ce12dac7-7a81-487b-a676-09a1961eea59/snotel_201312_1048.derived.csv\nhttp://gstore.unm.edu/apps/epscor/datasets/6a6107cf-280a-4034-b413-eae2ada13827/snotel_201402_1048.derived.csv\nhttp://gstore.unm.edu/apps/epscor/datasets/08adbe6f-ccdd-49f4-ae95-cad96bd68519/snotel_201401_1034.derived.csv"
      },
      {
       "output_type": "stream",
       "stream": "stdout",
       "text": "\nhttp://gstore.unm.edu/apps/epscor/datasets/7db4136f-f5e8-4ec6-88dd-d259e12da88d/snotel_201402_1034.derived.csv\nhttp://gstore.unm.edu/apps/epscor/datasets/5c473f5b-b903-4b62-baa5-c8f03a98d007/snotel_201403_1034.derived.csv\nhttp://gstore.unm.edu/apps/epscor/datasets/ac0aa5e0-4d99-4bd9-ac58-6fd811bce157/snotel_201312_1034.derived.csv\nhttp://gstore.unm.edu/apps/epscor/datasets/7ce64946-f8ab-4709-a581-fa739d386150/snotel_201401_708.derived.csv"
      },
      {
       "output_type": "stream",
       "stream": "stdout",
       "text": "\nhttp://gstore.unm.edu/apps/epscor/datasets/420c0e2f-961a-4c80-a588-b0ee3cf989b5/snotel_201312_708.derived.csv\nhttp://gstore.unm.edu/apps/epscor/datasets/cc889880-d9de-4200-b9e1-6bcfeac22ce0/snotel_201403_708.derived.csv\nhttp://gstore.unm.edu/apps/epscor/datasets/cb9d0f9c-ff5f-41f0-87b6-7b9e8545fddc/snotel_201402_708.derived.csv\nhttp://gstore.unm.edu/apps/epscor/datasets/68165a3f-67c7-4937-89a7-48a567786751/snotel_201312_933.derived.csv"
      },
      {
       "output_type": "stream",
       "stream": "stdout",
       "text": "\nhttp://gstore.unm.edu/apps/epscor/datasets/bc2d9dad-ecf7-4e59-805e-2a7e49abd611/snotel_201402_933.derived.csv\nhttp://gstore.unm.edu/apps/epscor/datasets/3794e9ab-e007-4556-9550-77ff870f4d24/snotel_201401_933.derived.csv\nhttp://gstore.unm.edu/apps/epscor/datasets/c07c1181-8e42-4b73-bd70-442ecccb794e/snotel_201403_933.derived.csv\nhttp://gstore.unm.edu/apps/epscor/datasets/0da560a8-08fb-4027-af3b-bf8ba4d8ee8e/snotel_201401_1083.derived.csv"
      },
      {
       "output_type": "stream",
       "stream": "stdout",
       "text": "\nhttp://gstore.unm.edu/apps/epscor/datasets/2c491dbd-da58-476e-b06f-bb99801132b0/snotel_201312_1083.derived.csv\nhttp://gstore.unm.edu/apps/epscor/datasets/d2871ea6-4be4-4cb5-8ef4-7b6c24bd5c7c/snotel_201312_491.derived.csv\nhttp://gstore.unm.edu/apps/epscor/datasets/5d14bba5-28ec-4692-8a36-b13a8b6ba09b/snotel_201403_1083.derived.csv\nhttp://gstore.unm.edu/apps/epscor/datasets/94ab9d87-a6e4-459c-aec9-6986c9b07b09/snotel_201402_1083.derived.csv\nhttp://gstore.unm.edu/apps/epscor/datasets/db666fcc-22d7-47e4-83a9-368dd7ffa34e/snotel_201402_854.derived.csv\nhttp://gstore.unm.edu/apps/epscor/datasets/5a97d36e-619f-4daf-8525-c842b537dcc9/snotel_201403_854.derived.csv\nhttp://gstore.unm.edu/apps/epscor/datasets/4e2b4765-227f-4025-96ab-9786392641da/snotel_201312_854.derived.csv\nhttp://gstore.unm.edu/apps/epscor/datasets/51d9aa56-8427-4985-9125-ad148188c5c7/snotel_201402_491.derived.csv\nhttp://gstore.unm.edu/apps/epscor/datasets/8bafe9ec-b20e-4c0b-af8f-bb58b13acee2/snotel_201401_491.derived.csv\nhttp://gstore.unm.edu/apps/epscor/datasets/c5e0bb51-5187-4c11-9a57-280cf23bffe6/snotel_201401_854.derived.csv\nhttp://gstore.unm.edu/apps/epscor/datasets/889e9de2-8be8-4b4e-b593-c7cda5378fa9/snotel_201403_491.derived.csv\nhttp://gstore.unm.edu/apps/epscor/datasets/bc53581c-69fd-4e71-b6e4-97d4ca741758/snotel_201312_1017.derived.csv"
      },
      {
       "output_type": "stream",
       "stream": "stdout",
       "text": "\nhttp://gstore.unm.edu/apps/epscor/datasets/a164edd3-9c0d-4bcc-a387-33bce8134bdc/snotel_201401_394.derived.csv\nhttp://gstore.unm.edu/apps/epscor/datasets/0da560a8-08fb-4027-af3b-bf8ba4d8ee8e/snotel_201401_1083.derived.csv\nhttp://gstore.unm.edu/apps/epscor/datasets/eb4be9eb-9ca4-4aab-8d3b-4e598f17db4c/snotel_201312_394.derived.csv\nhttp://gstore.unm.edu/apps/epscor/datasets/ed21d741-628d-4c20-a714-ab2a9ed31226/snotel_201401_744.derived.csv\nhttp://gstore.unm.edu/apps/epscor/datasets/dc0491d6-a331-40a2-ac62-a7523c077cc1/snotel_201402_1017.derived.csv\nhttp://gstore.unm.edu/apps/epscor/datasets/116027b5-9c8a-4e9d-9c79-69a7430b717c/snotel_201403_1017.derived.csv\nhttp://gstore.unm.edu/apps/epscor/datasets/19c82a03-1be6-4c1e-b8d1-19d630dd8739/snotel_201403_532.derived.csv\nhttp://gstore.unm.edu/apps/epscor/datasets/800a343d-a65f-44df-95dc-b2ecde5c5fdc/snotel_201402_1172.derived.csv\nhttp://gstore.unm.edu/apps/epscor/datasets/2c491dbd-da58-476e-b06f-bb99801132b0/snotel_201312_1083.derived.csv\nhttp://gstore.unm.edu/apps/epscor/datasets/d2871ea6-4be4-4cb5-8ef4-7b6c24bd5c7c/snotel_201312_491.derived.csv\nhttp://gstore.unm.edu/apps/epscor/datasets/d52ec4ae-4b1c-4d80-aa00-ea4eb1f2af45/snotel_201312_532.derived.csv\nhttp://gstore.unm.edu/apps/epscor/datasets/b1aeeee5-6cdf-4687-8ef2-35f38aac886c/snotel_201402_744.derived.csv\nhttp://gstore.unm.edu/apps/epscor/datasets/482c2871-0015-4249-9519-b542fbcc4901/snotel_201403_316.derived.csv\nhttp://gstore.unm.edu/apps/epscor/datasets/5d14bba5-28ec-4692-8a36-b13a8b6ba09b/snotel_201403_1083.derived.csv\nhttp://gstore.unm.edu/apps/epscor/datasets/2730123d-070c-45ee-8d8d-b5e4df135faf/snotel_201403_394.derived.csv\nhttp://gstore.unm.edu/apps/epscor/datasets/8fed3a35-3096-4db0-b89e-eb404d9ff014/snotel_201401_316.derived.csv\nhttp://gstore.unm.edu/apps/epscor/datasets/871585ad-3885-4d6d-8769-d8980e83e1f4/snotel_201402_394.derived.csv\nhttp://gstore.unm.edu/apps/epscor/datasets/94ab9d87-a6e4-459c-aec9-6986c9b07b09/snotel_201402_1083.derived.csv\nhttp://gstore.unm.edu/apps/epscor/datasets/88ae0a1f-2945-4402-85a7-bfabb56362ef/snotel_201312_316.derived.csv\nhttp://gstore.unm.edu/apps/epscor/datasets/8ee6b7d1-7341-4a2c-aaad-9a303348d80d/snotel_201401_1017.derived.csv\nhttp://gstore.unm.edu/apps/epscor/datasets/35c78b12-44f5-412d-92db-f42a1f3e4fd6/snotel_201401_1172.derived.csv\nhttp://gstore.unm.edu/apps/epscor/datasets/552e8de2-abb1-4629-9c9c-db6eee0d8adf/snotel_201402_316.derived.csv\nhttp://gstore.unm.edu/apps/epscor/datasets/c698dd30-2a6d-4e77-ad1e-50a91b1a02de/snotel_201402_532.derived.csv\nhttp://gstore.unm.edu/apps/epscor/datasets/51d9aa56-8427-4985-9125-ad148188c5c7/snotel_201402_491.derived.csv\nhttp://gstore.unm.edu/apps/epscor/datasets/500bb353-0124-4402-9575-af05d873d9c1/snotel_201403_1172.derived.csv\nhttp://gstore.unm.edu/apps/epscor/datasets/ad68dc17-cf49-44a7-a5bb-c65f1f17e0ad/snotel_201401_532.derived.csv\nhttp://gstore.unm.edu/apps/epscor/datasets/8bafe9ec-b20e-4c0b-af8f-bb58b13acee2/snotel_201401_491.derived.csv\nhttp://gstore.unm.edu/apps/epscor/datasets/1be5be3c-e4cf-4721-91e0-f7ca337c647a/snotel_201312_1172.derived.csv\nhttp://gstore.unm.edu/apps/epscor/datasets/f8658f07-3cab-48a2-a3a6-b641212b4129/snotel_201312_744.derived.csv\nhttp://gstore.unm.edu/apps/epscor/datasets/9280001a-cb78-4ab6-a482-f5fbf05ed54e/snotel_201403_744.derived.csv\nhttp://gstore.unm.edu/apps/epscor/datasets/889e9de2-8be8-4b4e-b593-c7cda5378fa9/snotel_201403_491.derived.csv\nhttp://gstore.unm.edu/apps/epscor/datasets/bc53581c-69fd-4e71-b6e4-97d4ca741758/snotel_201312_1017.derived.csv"
      },
      {
       "output_type": "stream",
       "stream": "stdout",
       "text": "\nhttp://gstore.unm.edu/apps/epscor/datasets/ed21d741-628d-4c20-a714-ab2a9ed31226/snotel_201401_744.derived.csv\nhttp://gstore.unm.edu/apps/epscor/datasets/dc0491d6-a331-40a2-ac62-a7523c077cc1/snotel_201402_1017.derived.csv\nhttp://gstore.unm.edu/apps/epscor/datasets/116027b5-9c8a-4e9d-9c79-69a7430b717c/snotel_201403_1017.derived.csv\nhttp://gstore.unm.edu/apps/epscor/datasets/b1aeeee5-6cdf-4687-8ef2-35f38aac886c/snotel_201402_744.derived.csv\nhttp://gstore.unm.edu/apps/epscor/datasets/7ce64946-f8ab-4709-a581-fa739d386150/snotel_201401_708.derived.csv\nhttp://gstore.unm.edu/apps/epscor/datasets/420c0e2f-961a-4c80-a588-b0ee3cf989b5/snotel_201312_708.derived.csv\nhttp://gstore.unm.edu/apps/epscor/datasets/8ee6b7d1-7341-4a2c-aaad-9a303348d80d/snotel_201401_1017.derived.csv\nhttp://gstore.unm.edu/apps/epscor/datasets/cc889880-d9de-4200-b9e1-6bcfeac22ce0/snotel_201403_708.derived.csv\nhttp://gstore.unm.edu/apps/epscor/datasets/f8658f07-3cab-48a2-a3a6-b641212b4129/snotel_201312_744.derived.csv\nhttp://gstore.unm.edu/apps/epscor/datasets/cb9d0f9c-ff5f-41f0-87b6-7b9e8545fddc/snotel_201402_708.derived.csv\nhttp://gstore.unm.edu/apps/epscor/datasets/9280001a-cb78-4ab6-a482-f5fbf05ed54e/snotel_201403_744.derived.csv\nhttp://gstore.unm.edu/apps/epscor/datasets/7a0ac54b-d8bc-46e3-ae50-e6291d647e11/snotel_201402_1138.derived.csv"
      },
      {
       "output_type": "stream",
       "stream": "stdout",
       "text": "\nhttp://gstore.unm.edu/apps/epscor/datasets/6d154cac-cf6a-4f84-8eb6-1cdaebd9788b/snotel_201312_1138.derived.csv\nhttp://gstore.unm.edu/apps/epscor/datasets/d3af0728-1cc8-4a32-b705-da687896d277/snotel_201401_1138.derived.csv\nhttp://gstore.unm.edu/apps/epscor/datasets/679d1947-6516-4636-ad2b-0381e0b58084/snotel_201403_1143.derived.csv\nhttp://gstore.unm.edu/apps/epscor/datasets/6656dd00-a3c2-46ff-8eb2-ea438a168142/snotel_201312_1143.derived.csv\nhttp://gstore.unm.edu/apps/epscor/datasets/2143d59c-48f7-4adb-aa4a-c8f192c4a646/snotel_201401_1143.derived.csv\nhttp://gstore.unm.edu/apps/epscor/datasets/0801e241-5ad1-465d-a668-2294ee1c6fc0/snotel_201402_1143.derived.csv\nhttp://gstore.unm.edu/apps/epscor/datasets/6c22f2fb-da93-422c-99c2-e6b09e8eb739/snotel_201403_1138.derived.csv\nhttp://gstore.unm.edu/apps/epscor/datasets/db666fcc-22d7-47e4-83a9-368dd7ffa34e/snotel_201402_854.derived.csv"
      },
      {
       "output_type": "stream",
       "stream": "stdout",
       "text": "\nhttp://gstore.unm.edu/apps/epscor/datasets/5a97d36e-619f-4daf-8525-c842b537dcc9/snotel_201403_854.derived.csv\nhttp://gstore.unm.edu/apps/epscor/datasets/4e2b4765-227f-4025-96ab-9786392641da/snotel_201312_854.derived.csv\nhttp://gstore.unm.edu/apps/epscor/datasets/c5e0bb51-5187-4c11-9a57-280cf23bffe6/snotel_201401_854.derived.csv\nhttp://gstore.unm.edu/apps/epscor/datasets/6e41790d-c2aa-436f-8b3a-30ab1ccfd5d5/snotel_201401_921.derived.csv"
      },
      {
       "output_type": "stream",
       "stream": "stdout",
       "text": "\nhttp://gstore.unm.edu/apps/epscor/datasets/aa294f28-7fbf-4e10-92cc-6d275a3d6d09/snotel_201403_922.derived.csv\nhttp://gstore.unm.edu/apps/epscor/datasets/081660fa-6d9f-4d1f-96a2-d180cb23b17b/snotel_201403_921.derived.csv\nhttp://gstore.unm.edu/apps/epscor/datasets/756ef80b-7c6e-4fee-9c2d-ee1edab19bdb/snotel_201312_922.derived.csv\nhttp://gstore.unm.edu/apps/epscor/datasets/ba4628c9-38f2-4646-b1bd-348a1dae763f/snotel_201401_922.derived.csv\nhttp://gstore.unm.edu/apps/epscor/datasets/c8913891-571f-43af-a4db-8b5b43ab7d5c/snotel_201312_921.derived.csv\nhttp://gstore.unm.edu/apps/epscor/datasets/d1024592-efa1-4aac-9473-6b4f01024b90/snotel_201402_921.derived.csv\nhttp://gstore.unm.edu/apps/epscor/datasets/fa8c83fc-bbfc-4c86-b2ff-6a5155638418/snotel_201402_922.derived.csv\nhttp://gstore.unm.edu/apps/epscor/datasets/47cc4c18-bbe6-4f83-a81a-b06f4a0bd577/snotel_201312_595.derived.csv"
      },
      {
       "output_type": "stream",
       "stream": "stdout",
       "text": "\nhttp://gstore.unm.edu/apps/epscor/datasets/9a1fd801-4c3f-4c42-a452-7dfe67123c45/snotel_201401_595.derived.csv\nhttp://gstore.unm.edu/apps/epscor/datasets/0340e747-ef7c-41e5-83b2-efc9f30a32a1/snotel_201403_1048.derived.csv\nhttp://gstore.unm.edu/apps/epscor/datasets/d77e5b61-41fc-4774-b786-f3422116e34b/snotel_201401_1048.derived.csv\nhttp://gstore.unm.edu/apps/epscor/datasets/68f83776-3548-4a51-81ed-ed8c1de79d61/snotel_201402_595.derived.csv\nhttp://gstore.unm.edu/apps/epscor/datasets/adfef876-464c-4ef1-b152-9c16cee3f6a7/snotel_201403_595.derived.csv\nhttp://gstore.unm.edu/apps/epscor/datasets/ce12dac7-7a81-487b-a676-09a1961eea59/snotel_201312_1048.derived.csv\nhttp://gstore.unm.edu/apps/epscor/datasets/6a6107cf-280a-4034-b413-eae2ada13827/snotel_201402_1048.derived.csv\nhttp://gstore.unm.edu/apps/epscor/datasets/8a661be3-299d-47ad-bb4e-031984b2a30e/snotel_201312_715.derived.csv"
      },
      {
       "output_type": "stream",
       "stream": "stdout",
       "text": "\nhttp://gstore.unm.edu/apps/epscor/datasets/0da560a8-08fb-4027-af3b-bf8ba4d8ee8e/snotel_201401_1083.derived.csv\nhttp://gstore.unm.edu/apps/epscor/datasets/0f4b3e3b-dbc5-484e-bd77-b769b9b4f682/snotel_201312_1168.derived.csv\nhttp://gstore.unm.edu/apps/epscor/datasets/fde027c5-1ca4-433d-a5f7-1a1fda88bd46/snotel_201402_934.derived.csv\nhttp://gstore.unm.edu/apps/epscor/datasets/ffbc053f-ab9a-4ebe-95ea-83832cf6a86b/snotel_201402_715.derived.csv\nhttp://gstore.unm.edu/apps/epscor/datasets/2c491dbd-da58-476e-b06f-bb99801132b0/snotel_201312_1083.derived.csv\nhttp://gstore.unm.edu/apps/epscor/datasets/59c413bb-47b8-440d-bba4-beffef178ead/snotel_201312_1169.derived.csv\nhttp://gstore.unm.edu/apps/epscor/datasets/5579056f-406c-4ff1-a3c3-3513da0a7e90/snotel_201312_1170.derived.csv\nhttp://gstore.unm.edu/apps/epscor/datasets/d2871ea6-4be4-4cb5-8ef4-7b6c24bd5c7c/snotel_201312_491.derived.csv\nhttp://gstore.unm.edu/apps/epscor/datasets/5d14bba5-28ec-4692-8a36-b13a8b6ba09b/snotel_201403_1083.derived.csv\nhttp://gstore.unm.edu/apps/epscor/datasets/27c326ef-d5b2-4800-83d9-8bdd7fa49fd2/snotel_201401_1168.derived.csv\nhttp://gstore.unm.edu/apps/epscor/datasets/42d258a0-dca5-4c2f-8e9a-53eca830eda2/snotel_201401_1170.derived.csv\nhttp://gstore.unm.edu/apps/epscor/datasets/94ab9d87-a6e4-459c-aec9-6986c9b07b09/snotel_201402_1083.derived.csv\nhttp://gstore.unm.edu/apps/epscor/datasets/30133e97-a68a-4d3d-afc5-4712996f96eb/snotel_201402_1168.derived.csv\nhttp://gstore.unm.edu/apps/epscor/datasets/1f0b6548-a1d0-4b71-bb1b-1be2fa063937/snotel_201401_1169.derived.csv\nhttp://gstore.unm.edu/apps/epscor/datasets/9fc6900c-5260-4640-bd68-1823c440e14d/snotel_201401_715.derived.csv\nhttp://gstore.unm.edu/apps/epscor/datasets/04a8d4e7-45a6-4956-adda-7fb238b11834/snotel_201403_1169.derived.csv\nhttp://gstore.unm.edu/apps/epscor/datasets/5819134d-4c95-4a55-8a62-21ea91f5e7cb/snotel_201403_715.derived.csv\nhttp://gstore.unm.edu/apps/epscor/datasets/56f771ca-c3ab-4b8e-9b57-d634a48f9532/snotel_201312_934.derived.csv\nhttp://gstore.unm.edu/apps/epscor/datasets/21c8c85b-e831-45e9-a070-0e39e6136aa1/snotel_201402_1170.derived.csv\nhttp://gstore.unm.edu/apps/epscor/datasets/51d9aa56-8427-4985-9125-ad148188c5c7/snotel_201402_491.derived.csv\nhttp://gstore.unm.edu/apps/epscor/datasets/6ce72a32-c167-4eda-8da3-303297fbec26/snotel_201402_1169.derived.csv\nhttp://gstore.unm.edu/apps/epscor/datasets/e7011dcf-c838-4cde-b099-c4a1b01e39f7/snotel_201403_1168.derived.csv\nhttp://gstore.unm.edu/apps/epscor/datasets/20d278b5-82cc-4a01-90c0-872aa013859b/snotel_201403_1170.derived.csv\nhttp://gstore.unm.edu/apps/epscor/datasets/3c50428c-7f8e-4b84-9a9d-96f462dc9624/snotel_201403_934.derived.csv\nhttp://gstore.unm.edu/apps/epscor/datasets/8bafe9ec-b20e-4c0b-af8f-bb58b13acee2/snotel_201401_491.derived.csv\nhttp://gstore.unm.edu/apps/epscor/datasets/9bd40f89-4043-49b6-a84d-d8b90449a0b3/snotel_201401_934.derived.csv\nhttp://gstore.unm.edu/apps/epscor/datasets/889e9de2-8be8-4b4e-b593-c7cda5378fa9/snotel_201403_491.derived.csv\n"
      }
     ],
     "prompt_number": 77
    },
    {
     "cell_type": "code",
     "collapsed": false,
     "input": "frames = [] # create a new blank dataframe into which the retrieved data will be appended\nfor county in myCounties:\n    #print county\n    for myLink in county[\"downloadLinks\"]:\n        dataFile = urllib.urlopen(myLink).read()\n        zipFile = zipfile.ZipFile(StringIO.StringIO(dataFile))\n        print \"Processing: \" + myLink\n        #print zipFile.namelist()\n        for myFileName in zipFile.namelist():\n            myExtension = string.split(myFileName,\".\")[-1]\n            if myExtension == \"csv\":\n                #print \"=================================\"\n                print \"Data filename: %s\"%myFileName\n                myDF = pandas.read_csv(zipFile.open(myFileName))\n                frames.append(myDF)\n            else:\n                print \"Not Data: %s\"%myFileName\n                print\ndf = pandas.concat(frames)\nif diag:\n    print df.shape\n    print df.dtypes\n    print \"column names\"\n    print \"------------\"\n    for colName in df.columns:\n        print colName\n    print\nprint df.head()",
     "language": "python",
     "metadata": {},
     "outputs": [
      {
       "output_type": "stream",
       "stream": "stdout",
       "text": "Processing: http://gstore.unm.edu/apps/epscor/datasets/9c6a17ec-5481-4f48-812f-cf291d67cb7c/snotel_201401_486.derived.csv\nData filename: snotel_201401_486.csv\nNot Data: snotel_201401_486.csv.xml\n\nProcessing: http://gstore.unm.edu/apps/epscor/datasets/47cc4c18-bbe6-4f83-a81a-b06f4a0bd577/snotel_201312_595.derived.csv"
      },
      {
       "output_type": "stream",
       "stream": "stdout",
       "text": "\nData filename: snotel_201312_595.csv\nNot Data: snotel_201312_595.csv.xml\n\nProcessing: http://gstore.unm.edu/apps/epscor/datasets/9a1fd801-4c3f-4c42-a452-7dfe67123c45/snotel_201401_595.derived.csv"
      },
      {
       "output_type": "stream",
       "stream": "stdout",
       "text": "\nData filename: snotel_201401_595.csv\nNot Data: snotel_201401_595.csv.xml\n\nProcessing: http://gstore.unm.edu/apps/epscor/datasets/a3fea402-5bdd-45b7-931b-6891f20a4f09/snotel_201312_486.derived.csv"
      },
      {
       "output_type": "stream",
       "stream": "stdout",
       "text": "\nData filename: snotel_201312_486.csv\nNot Data: snotel_201312_486.csv.xml\n\nProcessing: http://gstore.unm.edu/apps/epscor/datasets/f47a6b63-a7dc-4d6e-a0b9-829f57c384e5/snotel_201312_757.derived.csv"
      },
      {
       "output_type": "stream",
       "stream": "stdout",
       "text": "\nData filename: snotel_201312_757.csv\nNot Data: snotel_201312_757.csv.xml\n\nProcessing: http://gstore.unm.edu/apps/epscor/datasets/68f83776-3548-4a51-81ed-ed8c1de79d61/snotel_201402_595.derived.csv"
      },
      {
       "output_type": "stream",
       "stream": "stdout",
       "text": "\nData filename: snotel_201402_595.csv\nNot Data: snotel_201402_595.csv.xml\n\nProcessing: http://gstore.unm.edu/apps/epscor/datasets/adfef876-464c-4ef1-b152-9c16cee3f6a7/snotel_201403_595.derived.csv"
      },
      {
       "output_type": "stream",
       "stream": "stdout",
       "text": "\nData filename: snotel_201403_595.csv\nNot Data: snotel_201403_595.csv.xml\n\nProcessing: http://gstore.unm.edu/apps/epscor/datasets/7d905832-d6c3-4772-b196-4a13d84e04ec/snotel_201403_757.derived.csv"
      },
      {
       "output_type": "stream",
       "stream": "stdout",
       "text": "\nData filename: snotel_201403_757.csv\nNot Data: snotel_201403_757.csv.xml\n\nProcessing: http://gstore.unm.edu/apps/epscor/datasets/9446ab07-dffa-408b-afbe-27c316cbc299/snotel_201401_757.derived.csv"
      },
      {
       "output_type": "stream",
       "stream": "stdout",
       "text": "\nData filename: snotel_201401_757.csv\nNot Data: snotel_201401_757.csv.xml\n\nProcessing: http://gstore.unm.edu/apps/epscor/datasets/64718921-f903-4a54-9bb4-c18d16f1f152/snotel_201402_486.derived.csv"
      },
      {
       "output_type": "stream",
       "stream": "stdout",
       "text": "\nData filename: snotel_201402_486.csv\nNot Data: snotel_201402_486.csv.xml\n\nProcessing: http://gstore.unm.edu/apps/epscor/datasets/9d5f0b29-3921-4825-89ca-2fb04c72445d/snotel_201402_757.derived.csv"
      },
      {
       "output_type": "stream",
       "stream": "stdout",
       "text": "\nData filename: snotel_201402_757.csv\nNot Data: snotel_201402_757.csv.xml\n\nProcessing: http://gstore.unm.edu/apps/epscor/datasets/5335b4f6-cede-46a2-914d-e830ecd39bd9/snotel_201403_486.derived.csv"
      },
      {
       "output_type": "stream",
       "stream": "stdout",
       "text": "\nData filename: snotel_201403_486.csv\nNot Data: snotel_201403_486.csv.xml\n\nProcessing: http://gstore.unm.edu/apps/epscor/datasets/68165a3f-67c7-4937-89a7-48a567786751/snotel_201312_933.derived.csv"
      },
      {
       "output_type": "stream",
       "stream": "stdout",
       "text": "\nData filename: snotel_201312_933.csv\nNot Data: snotel_201312_933.csv.xml\n\nProcessing: http://gstore.unm.edu/apps/epscor/datasets/bc2d9dad-ecf7-4e59-805e-2a7e49abd611/snotel_201402_933.derived.csv"
      },
      {
       "output_type": "stream",
       "stream": "stdout",
       "text": "\nData filename: snotel_201402_933.csv\nNot Data: snotel_201402_933.csv.xml\n\nProcessing: http://gstore.unm.edu/apps/epscor/datasets/3794e9ab-e007-4556-9550-77ff870f4d24/snotel_201401_933.derived.csv"
      },
      {
       "output_type": "stream",
       "stream": "stdout",
       "text": "\nData filename: snotel_201401_933.csv\nNot Data: snotel_201401_933.csv.xml\n\nProcessing: http://gstore.unm.edu/apps/epscor/datasets/c07c1181-8e42-4b73-bd70-442ecccb794e/snotel_201403_933.derived.csv"
      },
      {
       "output_type": "stream",
       "stream": "stdout",
       "text": "\nData filename: snotel_201403_933.csv\nNot Data: snotel_201403_933.csv.xml\n\nProcessing: http://gstore.unm.edu/apps/epscor/datasets/8a661be3-299d-47ad-bb4e-031984b2a30e/snotel_201312_715.derived.csv"
      },
      {
       "output_type": "stream",
       "stream": "stdout",
       "text": "\nData filename: snotel_201312_715.csv\nNot Data: snotel_201312_715.csv.xml\n\nProcessing: http://gstore.unm.edu/apps/epscor/datasets/fde027c5-1ca4-433d-a5f7-1a1fda88bd46/snotel_201402_934.derived.csv"
      },
      {
       "output_type": "stream",
       "stream": "stdout",
       "text": "\nData filename: snotel_201402_934.csv\nNot Data: snotel_201402_934.csv.xml\n\nProcessing: http://gstore.unm.edu/apps/epscor/datasets/ffbc053f-ab9a-4ebe-95ea-83832cf6a86b/snotel_201402_715.derived.csv"
      },
      {
       "output_type": "stream",
       "stream": "stdout",
       "text": "\nData filename: snotel_201402_715.csv\nNot Data: snotel_201402_715.csv.xml\n\nProcessing: http://gstore.unm.edu/apps/epscor/datasets/59c413bb-47b8-440d-bba4-beffef178ead/snotel_201312_1169.derived.csv"
      },
      {
       "output_type": "stream",
       "stream": "stdout",
       "text": "\nData filename: snotel_201312_1169.csv\nNot Data: snotel_201312_1169.csv.xml\n\nProcessing: http://gstore.unm.edu/apps/epscor/datasets/5579056f-406c-4ff1-a3c3-3513da0a7e90/snotel_201312_1170.derived.csv"
      },
      {
       "output_type": "stream",
       "stream": "stdout",
       "text": "\nData filename: snotel_201312_1170.csv\nNot Data: snotel_201312_1170.csv.xml\n\nProcessing: http://gstore.unm.edu/apps/epscor/datasets/42d258a0-dca5-4c2f-8e9a-53eca830eda2/snotel_201401_1170.derived.csv"
      },
      {
       "output_type": "stream",
       "stream": "stdout",
       "text": "\nData filename: snotel_201401_1170.csv\nNot Data: snotel_201401_1170.csv.xml\n\nProcessing: http://gstore.unm.edu/apps/epscor/datasets/1f0b6548-a1d0-4b71-bb1b-1be2fa063937/snotel_201401_1169.derived.csv"
      },
      {
       "output_type": "stream",
       "stream": "stdout",
       "text": "\nData filename: snotel_201401_1169.csv\nNot Data: snotel_201401_1169.csv.xml\n\nProcessing: http://gstore.unm.edu/apps/epscor/datasets/9fc6900c-5260-4640-bd68-1823c440e14d/snotel_201401_715.derived.csv"
      },
      {
       "output_type": "stream",
       "stream": "stdout",
       "text": "\nData filename: snotel_201401_715.csv\nNot Data: snotel_201401_715.csv.xml\n\nProcessing: http://gstore.unm.edu/apps/epscor/datasets/04a8d4e7-45a6-4956-adda-7fb238b11834/snotel_201403_1169.derived.csv"
      },
      {
       "output_type": "stream",
       "stream": "stdout",
       "text": "\nData filename: snotel_201403_1169.csv\nNot Data: snotel_201403_1169.csv.xml\n\nProcessing: http://gstore.unm.edu/apps/epscor/datasets/5819134d-4c95-4a55-8a62-21ea91f5e7cb/snotel_201403_715.derived.csv"
      },
      {
       "output_type": "stream",
       "stream": "stdout",
       "text": "\nData filename: snotel_201403_715.csv\nNot Data: snotel_201403_715.csv.xml\n\nProcessing: http://gstore.unm.edu/apps/epscor/datasets/56f771ca-c3ab-4b8e-9b57-d634a48f9532/snotel_201312_934.derived.csv"
      },
      {
       "output_type": "stream",
       "stream": "stdout",
       "text": "\nData filename: snotel_201312_934.csv\nNot Data: snotel_201312_934.csv.xml\n\nProcessing: http://gstore.unm.edu/apps/epscor/datasets/21c8c85b-e831-45e9-a070-0e39e6136aa1/snotel_201402_1170.derived.csv"
      },
      {
       "output_type": "stream",
       "stream": "stdout",
       "text": "\nData filename: snotel_201402_1170.csv\nNot Data: snotel_201402_1170.csv.xml\n\nProcessing: http://gstore.unm.edu/apps/epscor/datasets/6ce72a32-c167-4eda-8da3-303297fbec26/snotel_201402_1169.derived.csv"
      },
      {
       "output_type": "stream",
       "stream": "stdout",
       "text": "\nData filename: snotel_201402_1169.csv\nNot Data: snotel_201402_1169.csv.xml\n\nProcessing: http://gstore.unm.edu/apps/epscor/datasets/20d278b5-82cc-4a01-90c0-872aa013859b/snotel_201403_1170.derived.csv"
      },
      {
       "output_type": "stream",
       "stream": "stdout",
       "text": "\nData filename: snotel_201403_1170.csv\nNot Data: snotel_201403_1170.csv.xml\n\nProcessing: http://gstore.unm.edu/apps/epscor/datasets/3c50428c-7f8e-4b84-9a9d-96f462dc9624/snotel_201403_934.derived.csv"
      },
      {
       "output_type": "stream",
       "stream": "stdout",
       "text": "\nData filename: snotel_201403_934.csv\nNot Data: snotel_201403_934.csv.xml\n\nProcessing: http://gstore.unm.edu/apps/epscor/datasets/9bd40f89-4043-49b6-a84d-d8b90449a0b3/snotel_201401_934.derived.csv"
      },
      {
       "output_type": "stream",
       "stream": "stdout",
       "text": "\nData filename: snotel_201401_934.csv\nNot Data: snotel_201401_934.csv.xml\n\nProcessing: http://gstore.unm.edu/apps/epscor/datasets/7980fed6-cf40-42c1-9bda-889ca42f8311/snotel_201402_755.derived.csv"
      },
      {
       "output_type": "stream",
       "stream": "stdout",
       "text": "\nData filename: snotel_201402_755.csv\nNot Data: snotel_201402_755.csv.xml\n\nProcessing: http://gstore.unm.edu/apps/epscor/datasets/0340e747-ef7c-41e5-83b2-efc9f30a32a1/snotel_201403_1048.derived.csv"
      },
      {
       "output_type": "stream",
       "stream": "stdout",
       "text": "\nData filename: snotel_201403_1048.csv\nNot Data: snotel_201403_1048.csv.xml\n\nProcessing: http://gstore.unm.edu/apps/epscor/datasets/d77e5b61-41fc-4774-b786-f3422116e34b/snotel_201401_1048.derived.csv"
      },
      {
       "output_type": "stream",
       "stream": "stdout",
       "text": "\nData filename: snotel_201401_1048.csv\nNot Data: snotel_201401_1048.csv.xml\n\nProcessing: http://gstore.unm.edu/apps/epscor/datasets/ed561c5c-1f28-4ed0-bff5-150bc49e4d6b/snotel_201312_755.derived.csv"
      },
      {
       "output_type": "stream",
       "stream": "stdout",
       "text": "\nData filename: snotel_201312_755.csv\nNot Data: snotel_201312_755.csv.xml\n\nProcessing: http://gstore.unm.edu/apps/epscor/datasets/e08d9721-69cc-4720-9ebd-0575b6345f8c/snotel_201401_755.derived.csv"
      },
      {
       "output_type": "stream",
       "stream": "stdout",
       "text": "\nData filename: snotel_201401_755.csv\nNot Data: snotel_201401_755.csv.xml\n\nProcessing: http://gstore.unm.edu/apps/epscor/datasets/c5b0420f-290a-4f2f-8129-aa05e812e66c/snotel_201403_755.derived.csv"
      },
      {
       "output_type": "stream",
       "stream": "stdout",
       "text": "\nData filename: snotel_201403_755.csv\nNot Data: snotel_201403_755.csv.xml\n\nProcessing: http://gstore.unm.edu/apps/epscor/datasets/ce12dac7-7a81-487b-a676-09a1961eea59/snotel_201312_1048.derived.csv"
      },
      {
       "output_type": "stream",
       "stream": "stdout",
       "text": "\nData filename: snotel_201312_1048.csv\nNot Data: snotel_201312_1048.csv.xml\n\nProcessing: http://gstore.unm.edu/apps/epscor/datasets/6a6107cf-280a-4034-b413-eae2ada13827/snotel_201402_1048.derived.csv"
      },
      {
       "output_type": "stream",
       "stream": "stdout",
       "text": "\nData filename: snotel_201402_1048.csv\nNot Data: snotel_201402_1048.csv.xml\n\nProcessing: http://gstore.unm.edu/apps/epscor/datasets/08adbe6f-ccdd-49f4-ae95-cad96bd68519/snotel_201401_1034.derived.csv"
      },
      {
       "output_type": "stream",
       "stream": "stdout",
       "text": "\nData filename: snotel_201401_1034.csv\nNot Data: snotel_201401_1034.csv.xml\n\nProcessing: http://gstore.unm.edu/apps/epscor/datasets/7db4136f-f5e8-4ec6-88dd-d259e12da88d/snotel_201402_1034.derived.csv"
      },
      {
       "output_type": "stream",
       "stream": "stdout",
       "text": "\nData filename: snotel_201402_1034.csv\nNot Data: snotel_201402_1034.csv.xml\n\nProcessing: http://gstore.unm.edu/apps/epscor/datasets/5c473f5b-b903-4b62-baa5-c8f03a98d007/snotel_201403_1034.derived.csv"
      },
      {
       "output_type": "stream",
       "stream": "stdout",
       "text": "\nData filename: snotel_201403_1034.csv\nNot Data: snotel_201403_1034.csv.xml\n\nProcessing: http://gstore.unm.edu/apps/epscor/datasets/ac0aa5e0-4d99-4bd9-ac58-6fd811bce157/snotel_201312_1034.derived.csv"
      },
      {
       "output_type": "stream",
       "stream": "stdout",
       "text": "\nData filename: snotel_201312_1034.csv\nNot Data: snotel_201312_1034.csv.xml\n\nProcessing: http://gstore.unm.edu/apps/epscor/datasets/7ce64946-f8ab-4709-a581-fa739d386150/snotel_201401_708.derived.csv"
      },
      {
       "output_type": "stream",
       "stream": "stdout",
       "text": "\nData filename: snotel_201401_708.csv\nNot Data: snotel_201401_708.csv.xml\n\nProcessing: http://gstore.unm.edu/apps/epscor/datasets/420c0e2f-961a-4c80-a588-b0ee3cf989b5/snotel_201312_708.derived.csv"
      },
      {
       "output_type": "stream",
       "stream": "stdout",
       "text": "\nData filename: snotel_201312_708.csv\nNot Data: snotel_201312_708.csv.xml\n\nProcessing: http://gstore.unm.edu/apps/epscor/datasets/cc889880-d9de-4200-b9e1-6bcfeac22ce0/snotel_201403_708.derived.csv"
      },
      {
       "output_type": "stream",
       "stream": "stdout",
       "text": "\nData filename: snotel_201403_708.csv\nNot Data: snotel_201403_708.csv.xml\n\nProcessing: http://gstore.unm.edu/apps/epscor/datasets/cb9d0f9c-ff5f-41f0-87b6-7b9e8545fddc/snotel_201402_708.derived.csv"
      },
      {
       "output_type": "stream",
       "stream": "stdout",
       "text": "\nData filename: snotel_201402_708.csv\nNot Data: snotel_201402_708.csv.xml\n\nProcessing: http://gstore.unm.edu/apps/epscor/datasets/68165a3f-67c7-4937-89a7-48a567786751/snotel_201312_933.derived.csv"
      },
      {
       "output_type": "stream",
       "stream": "stdout",
       "text": "\nData filename: snotel_201312_933.csv\nNot Data: snotel_201312_933.csv.xml\n\nProcessing: http://gstore.unm.edu/apps/epscor/datasets/bc2d9dad-ecf7-4e59-805e-2a7e49abd611/snotel_201402_933.derived.csv"
      },
      {
       "output_type": "stream",
       "stream": "stdout",
       "text": "\nData filename: snotel_201402_933.csv\nNot Data: snotel_201402_933.csv.xml\n\nProcessing: http://gstore.unm.edu/apps/epscor/datasets/3794e9ab-e007-4556-9550-77ff870f4d24/snotel_201401_933.derived.csv"
      },
      {
       "output_type": "stream",
       "stream": "stdout",
       "text": "\nData filename: snotel_201401_933.csv\nNot Data: snotel_201401_933.csv.xml\n\nProcessing: http://gstore.unm.edu/apps/epscor/datasets/c07c1181-8e42-4b73-bd70-442ecccb794e/snotel_201403_933.derived.csv"
      },
      {
       "output_type": "stream",
       "stream": "stdout",
       "text": "\nData filename: snotel_201403_933.csv\nNot Data: snotel_201403_933.csv.xml\n\nProcessing: http://gstore.unm.edu/apps/epscor/datasets/0da560a8-08fb-4027-af3b-bf8ba4d8ee8e/snotel_201401_1083.derived.csv"
      },
      {
       "output_type": "stream",
       "stream": "stdout",
       "text": "\nData filename: snotel_201401_1083.csv\nNot Data: snotel_201401_1083.csv.xml\n\nProcessing: http://gstore.unm.edu/apps/epscor/datasets/2c491dbd-da58-476e-b06f-bb99801132b0/snotel_201312_1083.derived.csv"
      },
      {
       "output_type": "stream",
       "stream": "stdout",
       "text": "\nData filename: snotel_201312_1083.csv\nNot Data: snotel_201312_1083.csv.xml\n\nProcessing: http://gstore.unm.edu/apps/epscor/datasets/d2871ea6-4be4-4cb5-8ef4-7b6c24bd5c7c/snotel_201312_491.derived.csv"
      },
      {
       "output_type": "stream",
       "stream": "stdout",
       "text": "\nData filename: snotel_201312_491.csv\nNot Data: snotel_201312_491.csv.xml\n\nProcessing: http://gstore.unm.edu/apps/epscor/datasets/5d14bba5-28ec-4692-8a36-b13a8b6ba09b/snotel_201403_1083.derived.csv"
      },
      {
       "output_type": "stream",
       "stream": "stdout",
       "text": "\nData filename: snotel_201403_1083.csv\nNot Data: snotel_201403_1083.csv.xml\n\nProcessing: http://gstore.unm.edu/apps/epscor/datasets/94ab9d87-a6e4-459c-aec9-6986c9b07b09/snotel_201402_1083.derived.csv"
      },
      {
       "output_type": "stream",
       "stream": "stdout",
       "text": "\nData filename: snotel_201402_1083.csv\nNot Data: snotel_201402_1083.csv.xml\n\nProcessing: http://gstore.unm.edu/apps/epscor/datasets/db666fcc-22d7-47e4-83a9-368dd7ffa34e/snotel_201402_854.derived.csv"
      },
      {
       "output_type": "stream",
       "stream": "stdout",
       "text": "\nData filename: snotel_201402_854.csv\nNot Data: snotel_201402_854.csv.xml\n\nProcessing: http://gstore.unm.edu/apps/epscor/datasets/5a97d36e-619f-4daf-8525-c842b537dcc9/snotel_201403_854.derived.csv"
      },
      {
       "output_type": "stream",
       "stream": "stdout",
       "text": "\nData filename: snotel_201403_854.csv\nNot Data: snotel_201403_854.csv.xml\n\nProcessing: http://gstore.unm.edu/apps/epscor/datasets/4e2b4765-227f-4025-96ab-9786392641da/snotel_201312_854.derived.csv"
      },
      {
       "output_type": "stream",
       "stream": "stdout",
       "text": "\nData filename: snotel_201312_854.csv\nNot Data: snotel_201312_854.csv.xml\n\nProcessing: http://gstore.unm.edu/apps/epscor/datasets/51d9aa56-8427-4985-9125-ad148188c5c7/snotel_201402_491.derived.csv"
      },
      {
       "output_type": "stream",
       "stream": "stdout",
       "text": "\nData filename: snotel_201402_491.csv\nNot Data: snotel_201402_491.csv.xml\n\nProcessing: http://gstore.unm.edu/apps/epscor/datasets/8bafe9ec-b20e-4c0b-af8f-bb58b13acee2/snotel_201401_491.derived.csv"
      },
      {
       "output_type": "stream",
       "stream": "stdout",
       "text": "\nData filename: snotel_201401_491.csv\nNot Data: snotel_201401_491.csv.xml\n\nProcessing: http://gstore.unm.edu/apps/epscor/datasets/c5e0bb51-5187-4c11-9a57-280cf23bffe6/snotel_201401_854.derived.csv"
      },
      {
       "output_type": "stream",
       "stream": "stdout",
       "text": "\nData filename: snotel_201401_854.csv\nNot Data: snotel_201401_854.csv.xml\n\nProcessing: http://gstore.unm.edu/apps/epscor/datasets/889e9de2-8be8-4b4e-b593-c7cda5378fa9/snotel_201403_491.derived.csv"
      },
      {
       "output_type": "stream",
       "stream": "stdout",
       "text": "\nData filename: snotel_201403_491.csv\nNot Data: snotel_201403_491.csv.xml\n\nProcessing: http://gstore.unm.edu/apps/epscor/datasets/bc53581c-69fd-4e71-b6e4-97d4ca741758/snotel_201312_1017.derived.csv"
      },
      {
       "output_type": "stream",
       "stream": "stdout",
       "text": "\nData filename: snotel_201312_1017.csv\nNot Data: snotel_201312_1017.csv.xml\n\nProcessing: http://gstore.unm.edu/apps/epscor/datasets/a164edd3-9c0d-4bcc-a387-33bce8134bdc/snotel_201401_394.derived.csv"
      },
      {
       "output_type": "stream",
       "stream": "stdout",
       "text": "\nData filename: snotel_201401_394.csv\nNot Data: snotel_201401_394.csv.xml\n\nProcessing: http://gstore.unm.edu/apps/epscor/datasets/0da560a8-08fb-4027-af3b-bf8ba4d8ee8e/snotel_201401_1083.derived.csv"
      },
      {
       "output_type": "stream",
       "stream": "stdout",
       "text": "\nData filename: snotel_201401_1083.csv\nNot Data: snotel_201401_1083.csv.xml\n\nProcessing: http://gstore.unm.edu/apps/epscor/datasets/eb4be9eb-9ca4-4aab-8d3b-4e598f17db4c/snotel_201312_394.derived.csv"
      },
      {
       "output_type": "stream",
       "stream": "stdout",
       "text": "\nData filename: snotel_201312_394.csv\nNot Data: snotel_201312_394.csv.xml\n\nProcessing: http://gstore.unm.edu/apps/epscor/datasets/ed21d741-628d-4c20-a714-ab2a9ed31226/snotel_201401_744.derived.csv"
      },
      {
       "output_type": "stream",
       "stream": "stdout",
       "text": "\nData filename: snotel_201401_744.csv\nNot Data: snotel_201401_744.csv.xml\n\nProcessing: http://gstore.unm.edu/apps/epscor/datasets/dc0491d6-a331-40a2-ac62-a7523c077cc1/snotel_201402_1017.derived.csv"
      },
      {
       "output_type": "stream",
       "stream": "stdout",
       "text": "\nData filename: snotel_201402_1017.csv\nNot Data: snotel_201402_1017.csv.xml\n\nProcessing: http://gstore.unm.edu/apps/epscor/datasets/116027b5-9c8a-4e9d-9c79-69a7430b717c/snotel_201403_1017.derived.csv"
      },
      {
       "output_type": "stream",
       "stream": "stdout",
       "text": "\nData filename: snotel_201403_1017.csv\nNot Data: snotel_201403_1017.csv.xml\n\nProcessing: http://gstore.unm.edu/apps/epscor/datasets/19c82a03-1be6-4c1e-b8d1-19d630dd8739/snotel_201403_532.derived.csv"
      },
      {
       "output_type": "stream",
       "stream": "stdout",
       "text": "\nData filename: snotel_201403_532.csv\nNot Data: snotel_201403_532.csv.xml\n\nProcessing: http://gstore.unm.edu/apps/epscor/datasets/800a343d-a65f-44df-95dc-b2ecde5c5fdc/snotel_201402_1172.derived.csv"
      },
      {
       "output_type": "stream",
       "stream": "stdout",
       "text": "\nData filename: snotel_201402_1172.csv\nNot Data: snotel_201402_1172.csv.xml\n\nProcessing: http://gstore.unm.edu/apps/epscor/datasets/2c491dbd-da58-476e-b06f-bb99801132b0/snotel_201312_1083.derived.csv"
      },
      {
       "output_type": "stream",
       "stream": "stdout",
       "text": "\nData filename: snotel_201312_1083.csv\nNot Data: snotel_201312_1083.csv.xml\n\nProcessing: http://gstore.unm.edu/apps/epscor/datasets/d2871ea6-4be4-4cb5-8ef4-7b6c24bd5c7c/snotel_201312_491.derived.csv"
      },
      {
       "output_type": "stream",
       "stream": "stdout",
       "text": "\nData filename: snotel_201312_491.csv\nNot Data: snotel_201312_491.csv.xml\n\nProcessing: http://gstore.unm.edu/apps/epscor/datasets/d52ec4ae-4b1c-4d80-aa00-ea4eb1f2af45/snotel_201312_532.derived.csv"
      },
      {
       "output_type": "stream",
       "stream": "stdout",
       "text": "\nData filename: snotel_201312_532.csv\nNot Data: snotel_201312_532.csv.xml\n\nProcessing: http://gstore.unm.edu/apps/epscor/datasets/b1aeeee5-6cdf-4687-8ef2-35f38aac886c/snotel_201402_744.derived.csv"
      },
      {
       "output_type": "stream",
       "stream": "stdout",
       "text": "\nData filename: snotel_201402_744.csv\nNot Data: snotel_201402_744.csv.xml\n\nProcessing: http://gstore.unm.edu/apps/epscor/datasets/482c2871-0015-4249-9519-b542fbcc4901/snotel_201403_316.derived.csv"
      },
      {
       "output_type": "stream",
       "stream": "stdout",
       "text": "\nData filename: snotel_201403_316.csv\nNot Data: snotel_201403_316.csv.xml\n\nProcessing: http://gstore.unm.edu/apps/epscor/datasets/5d14bba5-28ec-4692-8a36-b13a8b6ba09b/snotel_201403_1083.derived.csv"
      },
      {
       "output_type": "stream",
       "stream": "stdout",
       "text": "\nData filename: snotel_201403_1083.csv\nNot Data: snotel_201403_1083.csv.xml\n\nProcessing: http://gstore.unm.edu/apps/epscor/datasets/2730123d-070c-45ee-8d8d-b5e4df135faf/snotel_201403_394.derived.csv"
      },
      {
       "output_type": "stream",
       "stream": "stdout",
       "text": "\nData filename: snotel_201403_394.csv\nNot Data: snotel_201403_394.csv.xml\n\nProcessing: http://gstore.unm.edu/apps/epscor/datasets/8fed3a35-3096-4db0-b89e-eb404d9ff014/snotel_201401_316.derived.csv"
      },
      {
       "output_type": "stream",
       "stream": "stdout",
       "text": "\nData filename: snotel_201401_316.csv\nNot Data: snotel_201401_316.csv.xml\n\nProcessing: http://gstore.unm.edu/apps/epscor/datasets/871585ad-3885-4d6d-8769-d8980e83e1f4/snotel_201402_394.derived.csv"
      },
      {
       "output_type": "stream",
       "stream": "stdout",
       "text": "\nData filename: snotel_201402_394.csv\nNot Data: snotel_201402_394.csv.xml\n\nProcessing: http://gstore.unm.edu/apps/epscor/datasets/94ab9d87-a6e4-459c-aec9-6986c9b07b09/snotel_201402_1083.derived.csv"
      },
      {
       "output_type": "stream",
       "stream": "stdout",
       "text": "\nData filename: snotel_201402_1083.csv\nNot Data: snotel_201402_1083.csv.xml\n\nProcessing: http://gstore.unm.edu/apps/epscor/datasets/88ae0a1f-2945-4402-85a7-bfabb56362ef/snotel_201312_316.derived.csv"
      },
      {
       "output_type": "stream",
       "stream": "stdout",
       "text": "\nData filename: snotel_201312_316.csv\nNot Data: snotel_201312_316.csv.xml\n\nProcessing: http://gstore.unm.edu/apps/epscor/datasets/8ee6b7d1-7341-4a2c-aaad-9a303348d80d/snotel_201401_1017.derived.csv"
      },
      {
       "output_type": "stream",
       "stream": "stdout",
       "text": "\nData filename: snotel_201401_1017.csv\nNot Data: snotel_201401_1017.csv.xml\n\nProcessing: http://gstore.unm.edu/apps/epscor/datasets/35c78b12-44f5-412d-92db-f42a1f3e4fd6/snotel_201401_1172.derived.csv"
      },
      {
       "output_type": "stream",
       "stream": "stdout",
       "text": "\nData filename: snotel_201401_1172.csv\nNot Data: snotel_201401_1172.csv.xml\n\nProcessing: http://gstore.unm.edu/apps/epscor/datasets/552e8de2-abb1-4629-9c9c-db6eee0d8adf/snotel_201402_316.derived.csv"
      },
      {
       "output_type": "stream",
       "stream": "stdout",
       "text": "\nData filename: snotel_201402_316.csv\nNot Data: snotel_201402_316.csv.xml\n\nProcessing: http://gstore.unm.edu/apps/epscor/datasets/c698dd30-2a6d-4e77-ad1e-50a91b1a02de/snotel_201402_532.derived.csv"
      },
      {
       "output_type": "stream",
       "stream": "stdout",
       "text": "\nData filename: snotel_201402_532.csv\nNot Data: snotel_201402_532.csv.xml\n\nProcessing: http://gstore.unm.edu/apps/epscor/datasets/51d9aa56-8427-4985-9125-ad148188c5c7/snotel_201402_491.derived.csv"
      },
      {
       "output_type": "stream",
       "stream": "stdout",
       "text": "\nData filename: snotel_201402_491.csv\nNot Data: snotel_201402_491.csv.xml\n\nProcessing: http://gstore.unm.edu/apps/epscor/datasets/500bb353-0124-4402-9575-af05d873d9c1/snotel_201403_1172.derived.csv"
      },
      {
       "output_type": "stream",
       "stream": "stdout",
       "text": "\nData filename: snotel_201403_1172.csv\nNot Data: snotel_201403_1172.csv.xml\n\nProcessing: http://gstore.unm.edu/apps/epscor/datasets/ad68dc17-cf49-44a7-a5bb-c65f1f17e0ad/snotel_201401_532.derived.csv"
      },
      {
       "output_type": "stream",
       "stream": "stdout",
       "text": "\nData filename: snotel_201401_532.csv\nNot Data: snotel_201401_532.csv.xml\n\nProcessing: http://gstore.unm.edu/apps/epscor/datasets/8bafe9ec-b20e-4c0b-af8f-bb58b13acee2/snotel_201401_491.derived.csv"
      },
      {
       "output_type": "stream",
       "stream": "stdout",
       "text": "\nData filename: snotel_201401_491.csv\nNot Data: snotel_201401_491.csv.xml\n\nProcessing: http://gstore.unm.edu/apps/epscor/datasets/1be5be3c-e4cf-4721-91e0-f7ca337c647a/snotel_201312_1172.derived.csv"
      },
      {
       "output_type": "stream",
       "stream": "stdout",
       "text": "\nData filename: snotel_201312_1172.csv\nNot Data: snotel_201312_1172.csv.xml\n\nProcessing: http://gstore.unm.edu/apps/epscor/datasets/f8658f07-3cab-48a2-a3a6-b641212b4129/snotel_201312_744.derived.csv"
      },
      {
       "output_type": "stream",
       "stream": "stdout",
       "text": "\nData filename: snotel_201312_744.csv\nNot Data: snotel_201312_744.csv.xml\n\nProcessing: http://gstore.unm.edu/apps/epscor/datasets/9280001a-cb78-4ab6-a482-f5fbf05ed54e/snotel_201403_744.derived.csv"
      },
      {
       "output_type": "stream",
       "stream": "stdout",
       "text": "\nData filename: snotel_201403_744.csv\nNot Data: snotel_201403_744.csv.xml\n\nProcessing: http://gstore.unm.edu/apps/epscor/datasets/889e9de2-8be8-4b4e-b593-c7cda5378fa9/snotel_201403_491.derived.csv"
      },
      {
       "output_type": "stream",
       "stream": "stdout",
       "text": "\nData filename: snotel_201403_491.csv\nNot Data: snotel_201403_491.csv.xml\n\nProcessing: http://gstore.unm.edu/apps/epscor/datasets/bc53581c-69fd-4e71-b6e4-97d4ca741758/snotel_201312_1017.derived.csv"
      },
      {
       "output_type": "stream",
       "stream": "stdout",
       "text": "\nData filename: snotel_201312_1017.csv\nNot Data: snotel_201312_1017.csv.xml\n\nProcessing: http://gstore.unm.edu/apps/epscor/datasets/ed21d741-628d-4c20-a714-ab2a9ed31226/snotel_201401_744.derived.csv"
      },
      {
       "output_type": "stream",
       "stream": "stdout",
       "text": "\nData filename: snotel_201401_744.csv\nNot Data: snotel_201401_744.csv.xml\n\nProcessing: http://gstore.unm.edu/apps/epscor/datasets/dc0491d6-a331-40a2-ac62-a7523c077cc1/snotel_201402_1017.derived.csv"
      },
      {
       "output_type": "stream",
       "stream": "stdout",
       "text": "\nData filename: snotel_201402_1017.csv\nNot Data: snotel_201402_1017.csv.xml\n\nProcessing: http://gstore.unm.edu/apps/epscor/datasets/116027b5-9c8a-4e9d-9c79-69a7430b717c/snotel_201403_1017.derived.csv"
      },
      {
       "output_type": "stream",
       "stream": "stdout",
       "text": "\nData filename: snotel_201403_1017.csv\nNot Data: snotel_201403_1017.csv.xml\n\nProcessing: http://gstore.unm.edu/apps/epscor/datasets/b1aeeee5-6cdf-4687-8ef2-35f38aac886c/snotel_201402_744.derived.csv"
      },
      {
       "output_type": "stream",
       "stream": "stdout",
       "text": "\nData filename: snotel_201402_744.csv\nNot Data: snotel_201402_744.csv.xml\n\nProcessing: http://gstore.unm.edu/apps/epscor/datasets/7ce64946-f8ab-4709-a581-fa739d386150/snotel_201401_708.derived.csv"
      },
      {
       "output_type": "stream",
       "stream": "stdout",
       "text": "\nData filename: snotel_201401_708.csv\nNot Data: snotel_201401_708.csv.xml\n\nProcessing: http://gstore.unm.edu/apps/epscor/datasets/420c0e2f-961a-4c80-a588-b0ee3cf989b5/snotel_201312_708.derived.csv"
      },
      {
       "output_type": "stream",
       "stream": "stdout",
       "text": "\nData filename: snotel_201312_708.csv\nNot Data: snotel_201312_708.csv.xml\n\nProcessing: http://gstore.unm.edu/apps/epscor/datasets/8ee6b7d1-7341-4a2c-aaad-9a303348d80d/snotel_201401_1017.derived.csv"
      },
      {
       "output_type": "stream",
       "stream": "stdout",
       "text": "\nData filename: snotel_201401_1017.csv\nNot Data: snotel_201401_1017.csv.xml\n\nProcessing: http://gstore.unm.edu/apps/epscor/datasets/cc889880-d9de-4200-b9e1-6bcfeac22ce0/snotel_201403_708.derived.csv"
      },
      {
       "output_type": "stream",
       "stream": "stdout",
       "text": "\nData filename: snotel_201403_708.csv\nNot Data: snotel_201403_708.csv.xml\n\nProcessing: http://gstore.unm.edu/apps/epscor/datasets/f8658f07-3cab-48a2-a3a6-b641212b4129/snotel_201312_744.derived.csv"
      },
      {
       "output_type": "stream",
       "stream": "stdout",
       "text": "\nData filename: snotel_201312_744.csv\nNot Data: snotel_201312_744.csv.xml\n\nProcessing: http://gstore.unm.edu/apps/epscor/datasets/cb9d0f9c-ff5f-41f0-87b6-7b9e8545fddc/snotel_201402_708.derived.csv"
      },
      {
       "output_type": "stream",
       "stream": "stdout",
       "text": "\nData filename: snotel_201402_708.csv\nNot Data: snotel_201402_708.csv.xml\n\nProcessing: http://gstore.unm.edu/apps/epscor/datasets/9280001a-cb78-4ab6-a482-f5fbf05ed54e/snotel_201403_744.derived.csv"
      },
      {
       "output_type": "stream",
       "stream": "stdout",
       "text": "\nData filename: snotel_201403_744.csv\nNot Data: snotel_201403_744.csv.xml\n\nProcessing: http://gstore.unm.edu/apps/epscor/datasets/7a0ac54b-d8bc-46e3-ae50-e6291d647e11/snotel_201402_1138.derived.csv"
      },
      {
       "output_type": "stream",
       "stream": "stdout",
       "text": "\nData filename: snotel_201402_1138.csv\nNot Data: snotel_201402_1138.csv.xml\n\nProcessing: http://gstore.unm.edu/apps/epscor/datasets/6d154cac-cf6a-4f84-8eb6-1cdaebd9788b/snotel_201312_1138.derived.csv"
      },
      {
       "output_type": "stream",
       "stream": "stdout",
       "text": "\nData filename: snotel_201312_1138.csv\nNot Data: snotel_201312_1138.csv.xml\n\nProcessing: http://gstore.unm.edu/apps/epscor/datasets/d3af0728-1cc8-4a32-b705-da687896d277/snotel_201401_1138.derived.csv"
      },
      {
       "output_type": "stream",
       "stream": "stdout",
       "text": "\nData filename: snotel_201401_1138.csv\nNot Data: snotel_201401_1138.csv.xml\n\nProcessing: http://gstore.unm.edu/apps/epscor/datasets/679d1947-6516-4636-ad2b-0381e0b58084/snotel_201403_1143.derived.csv"
      },
      {
       "output_type": "stream",
       "stream": "stdout",
       "text": "\nData filename: snotel_201403_1143.csv\nNot Data: snotel_201403_1143.csv.xml\n\nProcessing: http://gstore.unm.edu/apps/epscor/datasets/6656dd00-a3c2-46ff-8eb2-ea438a168142/snotel_201312_1143.derived.csv"
      },
      {
       "output_type": "stream",
       "stream": "stdout",
       "text": "\nData filename: snotel_201312_1143.csv\nNot Data: snotel_201312_1143.csv.xml\n\nProcessing: http://gstore.unm.edu/apps/epscor/datasets/2143d59c-48f7-4adb-aa4a-c8f192c4a646/snotel_201401_1143.derived.csv"
      },
      {
       "output_type": "stream",
       "stream": "stdout",
       "text": "\nData filename: snotel_201401_1143.csv\nNot Data: snotel_201401_1143.csv.xml\n\nProcessing: http://gstore.unm.edu/apps/epscor/datasets/0801e241-5ad1-465d-a668-2294ee1c6fc0/snotel_201402_1143.derived.csv"
      },
      {
       "output_type": "stream",
       "stream": "stdout",
       "text": "\nData filename: snotel_201402_1143.csv\nNot Data: snotel_201402_1143.csv.xml\n\nProcessing: http://gstore.unm.edu/apps/epscor/datasets/6c22f2fb-da93-422c-99c2-e6b09e8eb739/snotel_201403_1138.derived.csv"
      },
      {
       "output_type": "stream",
       "stream": "stdout",
       "text": "\nData filename: snotel_201403_1138.csv\nNot Data: snotel_201403_1138.csv.xml\n\nProcessing: http://gstore.unm.edu/apps/epscor/datasets/db666fcc-22d7-47e4-83a9-368dd7ffa34e/snotel_201402_854.derived.csv"
      },
      {
       "output_type": "stream",
       "stream": "stdout",
       "text": "\nData filename: snotel_201402_854.csv\nNot Data: snotel_201402_854.csv.xml\n\nProcessing: http://gstore.unm.edu/apps/epscor/datasets/5a97d36e-619f-4daf-8525-c842b537dcc9/snotel_201403_854.derived.csv"
      },
      {
       "output_type": "stream",
       "stream": "stdout",
       "text": "\nData filename: snotel_201403_854.csv\nNot Data: snotel_201403_854.csv.xml\n\nProcessing: http://gstore.unm.edu/apps/epscor/datasets/4e2b4765-227f-4025-96ab-9786392641da/snotel_201312_854.derived.csv"
      },
      {
       "output_type": "stream",
       "stream": "stdout",
       "text": "\nData filename: snotel_201312_854.csv\nNot Data: snotel_201312_854.csv.xml\n\nProcessing: http://gstore.unm.edu/apps/epscor/datasets/c5e0bb51-5187-4c11-9a57-280cf23bffe6/snotel_201401_854.derived.csv"
      },
      {
       "output_type": "stream",
       "stream": "stdout",
       "text": "\nData filename: snotel_201401_854.csv\nNot Data: snotel_201401_854.csv.xml\n\nProcessing: http://gstore.unm.edu/apps/epscor/datasets/6e41790d-c2aa-436f-8b3a-30ab1ccfd5d5/snotel_201401_921.derived.csv"
      },
      {
       "output_type": "stream",
       "stream": "stdout",
       "text": "\nData filename: snotel_201401_921.csv\nNot Data: snotel_201401_921.csv.xml\n\nProcessing: http://gstore.unm.edu/apps/epscor/datasets/aa294f28-7fbf-4e10-92cc-6d275a3d6d09/snotel_201403_922.derived.csv"
      },
      {
       "output_type": "stream",
       "stream": "stdout",
       "text": "\nData filename: snotel_201403_922.csv\nNot Data: snotel_201403_922.csv.xml\n\nProcessing: http://gstore.unm.edu/apps/epscor/datasets/081660fa-6d9f-4d1f-96a2-d180cb23b17b/snotel_201403_921.derived.csv"
      },
      {
       "output_type": "stream",
       "stream": "stdout",
       "text": "\nData filename: snotel_201403_921.csv\nNot Data: snotel_201403_921.csv.xml\n\nProcessing: http://gstore.unm.edu/apps/epscor/datasets/756ef80b-7c6e-4fee-9c2d-ee1edab19bdb/snotel_201312_922.derived.csv"
      },
      {
       "output_type": "stream",
       "stream": "stdout",
       "text": "\nData filename: snotel_201312_922.csv\nNot Data: snotel_201312_922.csv.xml\n\nProcessing: http://gstore.unm.edu/apps/epscor/datasets/ba4628c9-38f2-4646-b1bd-348a1dae763f/snotel_201401_922.derived.csv"
      },
      {
       "output_type": "stream",
       "stream": "stdout",
       "text": "\nData filename: snotel_201401_922.csv\nNot Data: snotel_201401_922.csv.xml\n\nProcessing: http://gstore.unm.edu/apps/epscor/datasets/c8913891-571f-43af-a4db-8b5b43ab7d5c/snotel_201312_921.derived.csv"
      },
      {
       "output_type": "stream",
       "stream": "stdout",
       "text": "\nData filename: snotel_201312_921.csv\nNot Data: snotel_201312_921.csv.xml\n\nProcessing: http://gstore.unm.edu/apps/epscor/datasets/d1024592-efa1-4aac-9473-6b4f01024b90/snotel_201402_921.derived.csv"
      },
      {
       "output_type": "stream",
       "stream": "stdout",
       "text": "\nData filename: snotel_201402_921.csv\nNot Data: snotel_201402_921.csv.xml\n\nProcessing: http://gstore.unm.edu/apps/epscor/datasets/fa8c83fc-bbfc-4c86-b2ff-6a5155638418/snotel_201402_922.derived.csv"
      },
      {
       "output_type": "stream",
       "stream": "stdout",
       "text": "\nData filename: snotel_201402_922.csv\nNot Data: snotel_201402_922.csv.xml\n\nProcessing: http://gstore.unm.edu/apps/epscor/datasets/47cc4c18-bbe6-4f83-a81a-b06f4a0bd577/snotel_201312_595.derived.csv"
      },
      {
       "output_type": "stream",
       "stream": "stdout",
       "text": "\nData filename: snotel_201312_595.csv\nNot Data: snotel_201312_595.csv.xml\n\nProcessing: http://gstore.unm.edu/apps/epscor/datasets/9a1fd801-4c3f-4c42-a452-7dfe67123c45/snotel_201401_595.derived.csv"
      },
      {
       "output_type": "stream",
       "stream": "stdout",
       "text": "\nData filename: snotel_201401_595.csv\nNot Data: snotel_201401_595.csv.xml\n\nProcessing: http://gstore.unm.edu/apps/epscor/datasets/0340e747-ef7c-41e5-83b2-efc9f30a32a1/snotel_201403_1048.derived.csv"
      },
      {
       "output_type": "stream",
       "stream": "stdout",
       "text": "\nData filename: snotel_201403_1048.csv\nNot Data: snotel_201403_1048.csv.xml\n\nProcessing: http://gstore.unm.edu/apps/epscor/datasets/d77e5b61-41fc-4774-b786-f3422116e34b/snotel_201401_1048.derived.csv"
      },
      {
       "output_type": "stream",
       "stream": "stdout",
       "text": "\nData filename: snotel_201401_1048.csv\nNot Data: snotel_201401_1048.csv.xml\n\nProcessing: http://gstore.unm.edu/apps/epscor/datasets/68f83776-3548-4a51-81ed-ed8c1de79d61/snotel_201402_595.derived.csv"
      },
      {
       "output_type": "stream",
       "stream": "stdout",
       "text": "\nData filename: snotel_201402_595.csv\nNot Data: snotel_201402_595.csv.xml\n\nProcessing: http://gstore.unm.edu/apps/epscor/datasets/adfef876-464c-4ef1-b152-9c16cee3f6a7/snotel_201403_595.derived.csv"
      },
      {
       "output_type": "stream",
       "stream": "stdout",
       "text": "\nData filename: snotel_201403_595.csv\nNot Data: snotel_201403_595.csv.xml\n\nProcessing: http://gstore.unm.edu/apps/epscor/datasets/ce12dac7-7a81-487b-a676-09a1961eea59/snotel_201312_1048.derived.csv"
      },
      {
       "output_type": "stream",
       "stream": "stdout",
       "text": "\nData filename: snotel_201312_1048.csv\nNot Data: snotel_201312_1048.csv.xml\n\nProcessing: http://gstore.unm.edu/apps/epscor/datasets/6a6107cf-280a-4034-b413-eae2ada13827/snotel_201402_1048.derived.csv"
      },
      {
       "output_type": "stream",
       "stream": "stdout",
       "text": "\nData filename: snotel_201402_1048.csv\nNot Data: snotel_201402_1048.csv.xml\n\nProcessing: http://gstore.unm.edu/apps/epscor/datasets/8a661be3-299d-47ad-bb4e-031984b2a30e/snotel_201312_715.derived.csv"
      },
      {
       "output_type": "stream",
       "stream": "stdout",
       "text": "\nData filename: snotel_201312_715.csv\nNot Data: snotel_201312_715.csv.xml\n\nProcessing: http://gstore.unm.edu/apps/epscor/datasets/0da560a8-08fb-4027-af3b-bf8ba4d8ee8e/snotel_201401_1083.derived.csv"
      },
      {
       "output_type": "stream",
       "stream": "stdout",
       "text": "\nData filename: snotel_201401_1083.csv\nNot Data: snotel_201401_1083.csv.xml\n\nProcessing: http://gstore.unm.edu/apps/epscor/datasets/0f4b3e3b-dbc5-484e-bd77-b769b9b4f682/snotel_201312_1168.derived.csv"
      },
      {
       "output_type": "stream",
       "stream": "stdout",
       "text": "\nData filename: snotel_201312_1168.csv\nNot Data: snotel_201312_1168.csv.xml\n\nProcessing: http://gstore.unm.edu/apps/epscor/datasets/fde027c5-1ca4-433d-a5f7-1a1fda88bd46/snotel_201402_934.derived.csv"
      },
      {
       "output_type": "stream",
       "stream": "stdout",
       "text": "\nData filename: snotel_201402_934.csv\nNot Data: snotel_201402_934.csv.xml\n\nProcessing: http://gstore.unm.edu/apps/epscor/datasets/ffbc053f-ab9a-4ebe-95ea-83832cf6a86b/snotel_201402_715.derived.csv"
      },
      {
       "output_type": "stream",
       "stream": "stdout",
       "text": "\nData filename: snotel_201402_715.csv\nNot Data: snotel_201402_715.csv.xml\n\nProcessing: http://gstore.unm.edu/apps/epscor/datasets/2c491dbd-da58-476e-b06f-bb99801132b0/snotel_201312_1083.derived.csv"
      },
      {
       "output_type": "stream",
       "stream": "stdout",
       "text": "\nData filename: snotel_201312_1083.csv\nNot Data: snotel_201312_1083.csv.xml\n\nProcessing: http://gstore.unm.edu/apps/epscor/datasets/59c413bb-47b8-440d-bba4-beffef178ead/snotel_201312_1169.derived.csv"
      },
      {
       "output_type": "stream",
       "stream": "stdout",
       "text": "\nData filename: snotel_201312_1169.csv\nNot Data: snotel_201312_1169.csv.xml\n\nProcessing: http://gstore.unm.edu/apps/epscor/datasets/5579056f-406c-4ff1-a3c3-3513da0a7e90/snotel_201312_1170.derived.csv"
      },
      {
       "output_type": "stream",
       "stream": "stdout",
       "text": "\nData filename: snotel_201312_1170.csv\nNot Data: snotel_201312_1170.csv.xml\n\nProcessing: http://gstore.unm.edu/apps/epscor/datasets/d2871ea6-4be4-4cb5-8ef4-7b6c24bd5c7c/snotel_201312_491.derived.csv"
      },
      {
       "output_type": "stream",
       "stream": "stdout",
       "text": "\nData filename: snotel_201312_491.csv\nNot Data: snotel_201312_491.csv.xml\n\nProcessing: http://gstore.unm.edu/apps/epscor/datasets/5d14bba5-28ec-4692-8a36-b13a8b6ba09b/snotel_201403_1083.derived.csv"
      },
      {
       "output_type": "stream",
       "stream": "stdout",
       "text": "\nData filename: snotel_201403_1083.csv\nNot Data: snotel_201403_1083.csv.xml\n\nProcessing: http://gstore.unm.edu/apps/epscor/datasets/27c326ef-d5b2-4800-83d9-8bdd7fa49fd2/snotel_201401_1168.derived.csv"
      },
      {
       "output_type": "stream",
       "stream": "stdout",
       "text": "\nData filename: snotel_201401_1168.csv\nNot Data: snotel_201401_1168.csv.xml\n\nProcessing: http://gstore.unm.edu/apps/epscor/datasets/42d258a0-dca5-4c2f-8e9a-53eca830eda2/snotel_201401_1170.derived.csv"
      },
      {
       "output_type": "stream",
       "stream": "stdout",
       "text": "\nData filename: snotel_201401_1170.csv\nNot Data: snotel_201401_1170.csv.xml\n\nProcessing: http://gstore.unm.edu/apps/epscor/datasets/94ab9d87-a6e4-459c-aec9-6986c9b07b09/snotel_201402_1083.derived.csv"
      },
      {
       "output_type": "stream",
       "stream": "stdout",
       "text": "\nData filename: snotel_201402_1083.csv\nNot Data: snotel_201402_1083.csv.xml\n\nProcessing: http://gstore.unm.edu/apps/epscor/datasets/30133e97-a68a-4d3d-afc5-4712996f96eb/snotel_201402_1168.derived.csv"
      },
      {
       "output_type": "stream",
       "stream": "stdout",
       "text": "\nData filename: snotel_201402_1168.csv\nNot Data: snotel_201402_1168.csv.xml\n\nProcessing: http://gstore.unm.edu/apps/epscor/datasets/1f0b6548-a1d0-4b71-bb1b-1be2fa063937/snotel_201401_1169.derived.csv"
      },
      {
       "output_type": "stream",
       "stream": "stdout",
       "text": "\nData filename: snotel_201401_1169.csv\nNot Data: snotel_201401_1169.csv.xml\n\nProcessing: http://gstore.unm.edu/apps/epscor/datasets/9fc6900c-5260-4640-bd68-1823c440e14d/snotel_201401_715.derived.csv"
      },
      {
       "output_type": "stream",
       "stream": "stdout",
       "text": "\nData filename: snotel_201401_715.csv\nNot Data: snotel_201401_715.csv.xml\n\nProcessing: http://gstore.unm.edu/apps/epscor/datasets/04a8d4e7-45a6-4956-adda-7fb238b11834/snotel_201403_1169.derived.csv"
      },
      {
       "output_type": "stream",
       "stream": "stdout",
       "text": "\nData filename: snotel_201403_1169.csv\nNot Data: snotel_201403_1169.csv.xml\n\nProcessing: http://gstore.unm.edu/apps/epscor/datasets/5819134d-4c95-4a55-8a62-21ea91f5e7cb/snotel_201403_715.derived.csv"
      },
      {
       "output_type": "stream",
       "stream": "stdout",
       "text": "\nData filename: snotel_201403_715.csv\nNot Data: snotel_201403_715.csv.xml\n\nProcessing: http://gstore.unm.edu/apps/epscor/datasets/56f771ca-c3ab-4b8e-9b57-d634a48f9532/snotel_201312_934.derived.csv"
      },
      {
       "output_type": "stream",
       "stream": "stdout",
       "text": "\nData filename: snotel_201312_934.csv\nNot Data: snotel_201312_934.csv.xml\n\nProcessing: http://gstore.unm.edu/apps/epscor/datasets/21c8c85b-e831-45e9-a070-0e39e6136aa1/snotel_201402_1170.derived.csv"
      },
      {
       "output_type": "stream",
       "stream": "stdout",
       "text": "\nData filename: snotel_201402_1170.csv\nNot Data: snotel_201402_1170.csv.xml\n\nProcessing: http://gstore.unm.edu/apps/epscor/datasets/51d9aa56-8427-4985-9125-ad148188c5c7/snotel_201402_491.derived.csv"
      },
      {
       "output_type": "stream",
       "stream": "stdout",
       "text": "\nData filename: snotel_201402_491.csv\nNot Data: snotel_201402_491.csv.xml\n\nProcessing: http://gstore.unm.edu/apps/epscor/datasets/6ce72a32-c167-4eda-8da3-303297fbec26/snotel_201402_1169.derived.csv"
      },
      {
       "output_type": "stream",
       "stream": "stdout",
       "text": "\nData filename: snotel_201402_1169.csv\nNot Data: snotel_201402_1169.csv.xml\n\nProcessing: http://gstore.unm.edu/apps/epscor/datasets/e7011dcf-c838-4cde-b099-c4a1b01e39f7/snotel_201403_1168.derived.csv"
      },
      {
       "output_type": "stream",
       "stream": "stdout",
       "text": "\nData filename: snotel_201403_1168.csv\nNot Data: snotel_201403_1168.csv.xml\n\nProcessing: http://gstore.unm.edu/apps/epscor/datasets/20d278b5-82cc-4a01-90c0-872aa013859b/snotel_201403_1170.derived.csv"
      },
      {
       "output_type": "stream",
       "stream": "stdout",
       "text": "\nData filename: snotel_201403_1170.csv\nNot Data: snotel_201403_1170.csv.xml\n\nProcessing: http://gstore.unm.edu/apps/epscor/datasets/3c50428c-7f8e-4b84-9a9d-96f462dc9624/snotel_201403_934.derived.csv"
      },
      {
       "output_type": "stream",
       "stream": "stdout",
       "text": "\nData filename: snotel_201403_934.csv\nNot Data: snotel_201403_934.csv.xml\n\nProcessing: http://gstore.unm.edu/apps/epscor/datasets/8bafe9ec-b20e-4c0b-af8f-bb58b13acee2/snotel_201401_491.derived.csv"
      },
      {
       "output_type": "stream",
       "stream": "stdout",
       "text": "\nData filename: snotel_201401_491.csv\nNot Data: snotel_201401_491.csv.xml\n\nProcessing: http://gstore.unm.edu/apps/epscor/datasets/9bd40f89-4043-49b6-a84d-d8b90449a0b3/snotel_201401_934.derived.csv"
      },
      {
       "output_type": "stream",
       "stream": "stdout",
       "text": "\nData filename: snotel_201401_934.csv\nNot Data: snotel_201401_934.csv.xml\n\nProcessing: http://gstore.unm.edu/apps/epscor/datasets/889e9de2-8be8-4b4e-b593-c7cda5378fa9/snotel_201403_491.derived.csv"
      },
      {
       "output_type": "stream",
       "stream": "stdout",
       "text": "\nData filename: snotel_201403_491.csv\nNot Data: snotel_201403_491.csv.xml\n\n<class 'pandas.core.frame.DataFrame'>\nInt64Index: 5 entries, 0 to 4\nData columns (total 36 columns):\nbatti_1       5  non-null values\nbatti_2       5  non-null values\nbatti_3       0  non-null values\nbatti_4       0  non-null values\nbatxh_1       5  non-null values\nbatxh_2       5  non-null values\ndate          5  non-null values\nprcph_1       0  non-null values\npreci_1       5  non-null values\npresi_1       0  non-null values\nrdci_1_2      0  non-null values\nrdci_1_20     0  non-null values\nrdci_1_8      0  non-null values\nrhumvh_1      0  non-null values\nsali_1_2      0  non-null values\nsali_1_20     0  non-null values\nsali_1_8      0  non-null values\nsite_id       5  non-null values\nsmsi_1_20s    0  non-null values\nsmsi_1_2s     0  non-null values\nsmsi_1_8s     0  non-null values\nsnwdi_1       5  non-null values\nsradvh_1      0  non-null values\nstoi_1_2      0  non-null values\nstoi_1_20     0  non-null values\nstoi_1_8      0  non-null values\ntavgh_2       0  non-null values\ntime          5  non-null values\ntmaxh_2       0  non-null values\ntminh_2       0  non-null values\ntobsi_1       5  non-null values\ntobsi_2       0  non-null values\nwdirvh_1      0  non-null values\nwspdvh_1      0  non-null values\nwspdxh_1mx    0  non-null values\nwteqi_1       5  non-null values\ndtypes: float64(33), int64(1), object(2)"
      },
      {
       "output_type": "stream",
       "stream": "stdout",
       "text": "\n"
      }
     ],
     "prompt_number": 78
    },
    {
     "cell_type": "markdown",
     "metadata": {},
     "source": "Look at the data ..."
    },
    {
     "cell_type": "code",
     "collapsed": false,
     "input": "fullDates = df['date'] +' ' + df['time']\ndf['fullDateTime'] = pandas.to_datetime(fullDates)\ndf['newDate'] = pandas.to_datetime(df['date'])\n# print df.dtypes\ndfGrouped = df.groupby('newDate')\ndfGroupedStats = dfGrouped['tobsi_1'].agg([np.mean,np.amin,np.amax])\n# print dfGroupedStats\n# print dfGroupedStats.dtypes\nfig,ax = plt.subplots(figsize=(10,8))\nax.width = 1\nax.height = .5\nplt.xkcd()\nplt.ylim(-25,30)\n#ax.step(dfGroupedStats.index,dfGroupedStats['amax'], label=\"Max. Temp.\")\n#ax.step(dfGroupedStats.index,dfGroupedStats['amin'], label=\"Min. Temp.\")\nax.plot_date(df['fullDateTime'], df['tobsi_1'], ',', label=\"Hourly Temp.\", color=\"0.2\")\nax.step(dfGroupedStats.index,dfGroupedStats['mean'], label=\"Mean Temp.\")\nfig.autofmt_xdate()\nplt.legend(loc=2, bbox_to_anchor=(1.0,1))\nplt.title(\"Hourly & Mean Daily Temperature\")\nplt.ylabel(\"Temp. (Degrees C)\")\nplt.xlabel(\"Date\")\n",
     "language": "python",
     "metadata": {},
     "outputs": [
      {
       "output_type": "pyout",
       "prompt_number": 79,
       "text": "<matplotlib.text.Text at 0x4c64450>"
      },
      {
       "output_type": "display_data",
       "png": "[encoded data removed]"
      }
     ],
     "prompt_number": 79
    },
    {
     "cell_type": "code",
     "collapsed": false,
     "input": "",
     "language": "python",
     "metadata": {},
     "outputs": [],
     "prompt_number": 79
    }
   ],
   "metadata": {}
  }
 ]
}