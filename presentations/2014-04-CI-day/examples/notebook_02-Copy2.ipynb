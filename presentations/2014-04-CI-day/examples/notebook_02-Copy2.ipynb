{
 "cells": [
  {
   "cell_type": "markdown",
   "metadata": {
    "slideshow": {
     "slide_type": "-"
    }
   },
   "source": [
    "# Network Data Access - USGS NWIS Service-based Data Access\n",
    "\n",
    "Karl Benedict  \n",
    "Director, Earth Data Analysis Center  \n",
    "Associate Professor, University Libraries  \n",
    "University of New Mexico  \n",
    "*kbene@unm.edu*"
   ]
  },
  {
   "cell_type": "markdown",
   "metadata": {},
   "source": [
    "## An Analysis\n",
    "\n",
    "This analysis demonstrates searching for datasets that meet a set of specified conditions, accessing via advertised services, processing and plotting the data from the service.\n",
    "\n",
    "Service Documentation: [http://waterservices.usgs.gov/rest/IV-Service.html](http://waterservices.usgs.gov/rest/IV-Service.html)"
   ]
  },
  {
   "cell_type": "code",
   "execution_count": 2,
   "metadata": {},
   "outputs": [
    {
     "name": "stdout",
     "output_type": "stream",
     "text": [
      "Collecting StringIO\n",
      "\u001b[31m  Could not find a version that satisfies the requirement StringIO (from versions: )\u001b[0m\n",
      "\u001b[31mNo matching distribution found for StringIO\u001b[0m\n"
     ]
    }
   ],
   "source": [
    "! pip install StringIO"
   ]
  },
  {
   "cell_type": "markdown",
   "metadata": {},
   "source": [
    "Enable the needed python libraries"
   ]
  },
  {
   "cell_type": "code",
   "execution_count": 1,
   "metadata": {},
   "outputs": [
    {
     "ename": "ModuleNotFoundError",
     "evalue": "No module named 'StringIO'",
     "output_type": "error",
     "traceback": [
      "\u001b[0;31m---------------------------------------------------------------------------\u001b[0m",
      "\u001b[0;31mModuleNotFoundError\u001b[0m                       Traceback (most recent call last)",
      "\u001b[0;32m<ipython-input-1-ec31cc87e507>\u001b[0m in \u001b[0;36m<module>\u001b[0;34m\u001b[0m\n\u001b[1;32m      1\u001b[0m \u001b[0;32mimport\u001b[0m \u001b[0murllib\u001b[0m\u001b[0;34m\u001b[0m\u001b[0;34m\u001b[0m\u001b[0m\n\u001b[1;32m      2\u001b[0m \u001b[0;32mimport\u001b[0m \u001b[0mzipfile\u001b[0m\u001b[0;34m\u001b[0m\u001b[0;34m\u001b[0m\u001b[0m\n\u001b[0;32m----> 3\u001b[0;31m \u001b[0;32mimport\u001b[0m \u001b[0mStringIO\u001b[0m\u001b[0;34m\u001b[0m\u001b[0;34m\u001b[0m\u001b[0m\n\u001b[0m\u001b[1;32m      4\u001b[0m \u001b[0;32mimport\u001b[0m \u001b[0mstring\u001b[0m\u001b[0;34m\u001b[0m\u001b[0;34m\u001b[0m\u001b[0m\n\u001b[1;32m      5\u001b[0m \u001b[0;32mimport\u001b[0m \u001b[0mpandas\u001b[0m\u001b[0;34m\u001b[0m\u001b[0;34m\u001b[0m\u001b[0m\n",
      "\u001b[0;31mModuleNotFoundError\u001b[0m: No module named 'StringIO'"
     ]
    }
   ],
   "source": [
    "import urllib\n",
    "import zipfile\n",
    "import StringIO\n",
    "import string\n",
    "import pandas\n",
    "import matplotlib.pyplot as plt\n",
    "import numpy as np\n",
    "from IPython.display import HTML\n",
    "import json"
   ]
  },
  {
   "cell_type": "markdown",
   "metadata": {},
   "source": [
    "Set some initial variables"
   ]
  },
  {
   "cell_type": "code",
   "execution_count": null,
   "metadata": {},
   "outputs": [],
   "source": [
    "county_name = \"\"\n",
    "start_date = \"20140101\"\n",
    "end_date = \"20150101\"\n",
    "diag = False"
   ]
  },
  {
   "cell_type": "markdown",
   "metadata": {},
   "source": [
    "### Options"
   ]
  },
  {
   "cell_type": "code",
   "execution_count": null,
   "metadata": {},
   "outputs": [],
   "source": [
    "## Retrieve the bounding box of the specified county - if no county is specified, the bounding boxes for all NM counties will be requested\n",
    "countyBBOXlink = \"http://gstore.unm.edu/apps/epscor/search/nm_counties.json?limit=100&query=\" + county_name  ## define the request URL\n",
    "print countyBBOXlink ## print the request URL for verification\n",
    "print\n",
    "bboxFile = urllib.urlopen(countyBBOXlink) ## request the bounding box information from the server\n",
    "bboxData = json.load(bboxFile)\n",
    "# print bboxData\n",
    "\n",
    "# Get data for BBOX defined by specified county(ies)\n",
    "myCounties = []\n",
    "for countyBBOX in bboxData[\"results\"]:\n",
    "    minx,miny,maxx,maxy = countyBBOX[u'box']\n",
    "    myDownloadLink = \"http://waterservices.usgs.gov/nwis/iv/?bBox=%f,%f,%f,%f&format=json&period=P7D&parameterCd=00060\" % (minx,miny,maxx,maxy) # retrieve data for the specified BBOX for the last 7 days as JSON\n",
    "    print myDownloadLink\n",
    "    myCounty = {u'name':countyBBOX[u'text'],u'minx':minx,u'miny':miny,u'maxx':maxx,u'maxy':maxy,u'downloadLink':myDownloadLink}\n",
    "    myCounties.append(myCounty)\n"
   ]
  },
  {
   "cell_type": "code",
   "execution_count": null,
   "metadata": {},
   "outputs": [],
   "source": [
    "#countySubset = [myCounties[0]]\n",
    "#print countySubset\n",
    "\n",
    "valueList = []\n",
    "\n",
    "for county in myCounties:\n",
    "    print \"processing: %s\" % county[\"downloadLink\"]\n",
    "    try:\n",
    "        datafile = urllib.urlopen(county[\"downloadLink\"])\n",
    "        data = json.load(datafile)\n",
    "        values = data[\"value\"][\"timeSeries\"][0][\"values\"]\n",
    "        for item in values:\n",
    "            for valueItem in item[\"value\"]:\n",
    "                #print json.dumps(item[\"value\"], sort_keys=True, indent=4)\n",
    "                myValue = {\"dateTime\":valueItem[\"dateTime\"].replace(\"T\",\" \").replace(\".000-06:00\",\"\"),\"value\":valueItem[\"value\"], \"county\":county[\"name\"]}\n",
    "                #print myValue\n",
    "                valueList.append(myValue)\n",
    "        #print valueList\n",
    "    except:\n",
    "        print \"\\tfailed for this one ...\"\n",
    "     \n",
    "    #print json.dumps(values, sort_keys=True, indent=4)"
   ]
  },
  {
   "cell_type": "code",
   "execution_count": null,
   "metadata": {},
   "outputs": [],
   "source": [
    "df = pandas.DataFrame(valueList)"
   ]
  },
  {
   "cell_type": "code",
   "execution_count": null,
   "metadata": {},
   "outputs": [],
   "source": [
    "df['dateTime'] = pandas.to_datetime(df[\"dateTime\"])\n",
    "df['value'] = df['value'].astype(float).fillna(-1)\n",
    "\n",
    "print df.shape\n",
    "print df.dtypes\n",
    "print \"column names\"\n",
    "print \"------------\"\n",
    "for colName in df.columns:\n",
    "    print colName\n",
    "print\n",
    "print df.head()"
   ]
  },
  {
   "cell_type": "code",
   "execution_count": null,
   "metadata": {},
   "outputs": [],
   "source": [
    "fig,ax = plt.subplots(figsize=(10,8))\n",
    "ax.width = 1\n",
    "ax.height = .5\n",
    "plt.xkcd()\n",
    "#plt.ylim(-25,30)\n",
    "ax.plot_date(df['dateTime'], df['value'], '.', label=\"Discharge (cf/sec)\", color=\"0.2\")\n",
    "fig.autofmt_xdate()\n",
    "plt.legend(loc=2, bbox_to_anchor=(1.0,1))\n",
    "plt.title(\"15-minute Discharge - cubic feet per second\")\n",
    "plt.ylabel(\"Discharge\")\n",
    "plt.xlabel(\"Date\")\n"
   ]
  },
  {
   "cell_type": "code",
   "execution_count": null,
   "metadata": {},
   "outputs": [],
   "source": []
  }
 ],
 "metadata": {
  "kernelspec": {
   "display_name": "Python 3",
   "language": "python",
   "name": "python3"
  },
  "language_info": {
   "codemirror_mode": {
    "name": "ipython",
    "version": 3
   },
   "file_extension": ".py",
   "mimetype": "text/x-python",
   "name": "python",
   "nbconvert_exporter": "python",
   "pygments_lexer": "ipython3",
   "version": "3.7.3"
  }
 },
 "nbformat": 4,
 "nbformat_minor": 1
}
